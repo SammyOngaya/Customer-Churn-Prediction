{
 "cells": [
  {
   "cell_type": "markdown",
   "metadata": {},
   "source": [
    "# <center>CUSTOMER CHURN PREDICTION</center>"
   ]
  },
  {
   "cell_type": "markdown",
   "metadata": {},
   "source": [
    "### Content\n",
    "<br>Each row represents a customer, each column contains customer’s attributes described on the column Metadata.\n",
    "\n",
    "<b>The data set includes information about:</b>\n",
    "\n",
    "Customers who left within the last month – the column is called Churn<br>\n",
    "Services that each customer has signed up for – phone, multiple lines, internet, online security, online backup, device protection, tech support, and streaming TV and movies<br>\n",
    "Customer account information – how long they’ve been a customer, contract, payment method, paperless billing, monthly charges, and total charges<br>\n",
    "Demographic info about customers – gender, age range, and if they have partners and dependents\n",
    "<hr><b>Inspiration</b><br>\n",
    "To explore this type of models and learn more about the subject."
   ]
  },
  {
   "cell_type": "markdown",
   "metadata": {},
   "source": [
    "#### 1. Import required libraries"
   ]
  },
  {
   "cell_type": "code",
   "execution_count": 37,
   "metadata": {},
   "outputs": [],
   "source": [
    "import numpy as np\n",
    "import pandas as pd\n",
    "import matplotlib.pyplot as plt\n",
    "\n",
    "from sklearn.model_selection import train_test_split\n",
    "from sklearn.preprocessing import MinMaxScaler\n",
    "\n",
    "from keras.utils import np_utils\n",
    "from keras.layers import Dense\n",
    "from keras.models import Sequential\n",
    "\n",
    "import warnings\n",
    "warnings.filterwarnings(\"ignore\")\n",
    "%matplotlib inline\n",
    "plt.style.use('ggplot')\n",
    "np.random.seed(1234)"
   ]
  },
  {
   "cell_type": "markdown",
   "metadata": {},
   "source": [
    "#### 2. Load our data"
   ]
  },
  {
   "cell_type": "code",
   "execution_count": 2,
   "metadata": {},
   "outputs": [],
   "source": [
    "data = pd.read_csv('customer_churn_prediction.csv')"
   ]
  },
  {
   "cell_type": "markdown",
   "metadata": {},
   "source": [
    "#### 3.Data exploration"
   ]
  },
  {
   "cell_type": "markdown",
   "metadata": {},
   "source": [
    "Peek first 5 records in our data"
   ]
  },
  {
   "cell_type": "code",
   "execution_count": 3,
   "metadata": {},
   "outputs": [
    {
     "data": {
      "text/html": [
       "<div>\n",
       "<style scoped>\n",
       "    .dataframe tbody tr th:only-of-type {\n",
       "        vertical-align: middle;\n",
       "    }\n",
       "\n",
       "    .dataframe tbody tr th {\n",
       "        vertical-align: top;\n",
       "    }\n",
       "\n",
       "    .dataframe thead th {\n",
       "        text-align: right;\n",
       "    }\n",
       "</style>\n",
       "<table border=\"1\" class=\"dataframe\">\n",
       "  <thead>\n",
       "    <tr style=\"text-align: right;\">\n",
       "      <th></th>\n",
       "      <th>customerID</th>\n",
       "      <th>gender</th>\n",
       "      <th>SeniorCitizen</th>\n",
       "      <th>Partner</th>\n",
       "      <th>Dependents</th>\n",
       "      <th>tenure</th>\n",
       "      <th>PhoneService</th>\n",
       "      <th>MultipleLines</th>\n",
       "      <th>InternetService</th>\n",
       "      <th>OnlineSecurity</th>\n",
       "      <th>...</th>\n",
       "      <th>DeviceProtection</th>\n",
       "      <th>TechSupport</th>\n",
       "      <th>StreamingTV</th>\n",
       "      <th>StreamingMovies</th>\n",
       "      <th>Contract</th>\n",
       "      <th>PaperlessBilling</th>\n",
       "      <th>PaymentMethod</th>\n",
       "      <th>MonthlyCharges</th>\n",
       "      <th>TotalCharges</th>\n",
       "      <th>Churn</th>\n",
       "    </tr>\n",
       "  </thead>\n",
       "  <tbody>\n",
       "    <tr>\n",
       "      <th>0</th>\n",
       "      <td>7590-VHVEG</td>\n",
       "      <td>Female</td>\n",
       "      <td>0</td>\n",
       "      <td>Yes</td>\n",
       "      <td>No</td>\n",
       "      <td>1</td>\n",
       "      <td>No</td>\n",
       "      <td>No phone service</td>\n",
       "      <td>DSL</td>\n",
       "      <td>No</td>\n",
       "      <td>...</td>\n",
       "      <td>No</td>\n",
       "      <td>No</td>\n",
       "      <td>No</td>\n",
       "      <td>No</td>\n",
       "      <td>Month-to-month</td>\n",
       "      <td>Yes</td>\n",
       "      <td>Electronic check</td>\n",
       "      <td>29.85</td>\n",
       "      <td>29.85</td>\n",
       "      <td>No</td>\n",
       "    </tr>\n",
       "    <tr>\n",
       "      <th>1</th>\n",
       "      <td>5575-GNVDE</td>\n",
       "      <td>Male</td>\n",
       "      <td>0</td>\n",
       "      <td>No</td>\n",
       "      <td>No</td>\n",
       "      <td>34</td>\n",
       "      <td>Yes</td>\n",
       "      <td>No</td>\n",
       "      <td>DSL</td>\n",
       "      <td>Yes</td>\n",
       "      <td>...</td>\n",
       "      <td>Yes</td>\n",
       "      <td>No</td>\n",
       "      <td>No</td>\n",
       "      <td>No</td>\n",
       "      <td>One year</td>\n",
       "      <td>No</td>\n",
       "      <td>Mailed check</td>\n",
       "      <td>56.95</td>\n",
       "      <td>1889.5</td>\n",
       "      <td>No</td>\n",
       "    </tr>\n",
       "    <tr>\n",
       "      <th>2</th>\n",
       "      <td>3668-QPYBK</td>\n",
       "      <td>Male</td>\n",
       "      <td>0</td>\n",
       "      <td>No</td>\n",
       "      <td>No</td>\n",
       "      <td>2</td>\n",
       "      <td>Yes</td>\n",
       "      <td>No</td>\n",
       "      <td>DSL</td>\n",
       "      <td>Yes</td>\n",
       "      <td>...</td>\n",
       "      <td>No</td>\n",
       "      <td>No</td>\n",
       "      <td>No</td>\n",
       "      <td>No</td>\n",
       "      <td>Month-to-month</td>\n",
       "      <td>Yes</td>\n",
       "      <td>Mailed check</td>\n",
       "      <td>53.85</td>\n",
       "      <td>108.15</td>\n",
       "      <td>Yes</td>\n",
       "    </tr>\n",
       "    <tr>\n",
       "      <th>3</th>\n",
       "      <td>7795-CFOCW</td>\n",
       "      <td>Male</td>\n",
       "      <td>0</td>\n",
       "      <td>No</td>\n",
       "      <td>No</td>\n",
       "      <td>45</td>\n",
       "      <td>No</td>\n",
       "      <td>No phone service</td>\n",
       "      <td>DSL</td>\n",
       "      <td>Yes</td>\n",
       "      <td>...</td>\n",
       "      <td>Yes</td>\n",
       "      <td>Yes</td>\n",
       "      <td>No</td>\n",
       "      <td>No</td>\n",
       "      <td>One year</td>\n",
       "      <td>No</td>\n",
       "      <td>Bank transfer (automatic)</td>\n",
       "      <td>42.30</td>\n",
       "      <td>1840.75</td>\n",
       "      <td>No</td>\n",
       "    </tr>\n",
       "    <tr>\n",
       "      <th>4</th>\n",
       "      <td>9237-HQITU</td>\n",
       "      <td>Female</td>\n",
       "      <td>0</td>\n",
       "      <td>No</td>\n",
       "      <td>No</td>\n",
       "      <td>2</td>\n",
       "      <td>Yes</td>\n",
       "      <td>No</td>\n",
       "      <td>Fiber optic</td>\n",
       "      <td>No</td>\n",
       "      <td>...</td>\n",
       "      <td>No</td>\n",
       "      <td>No</td>\n",
       "      <td>No</td>\n",
       "      <td>No</td>\n",
       "      <td>Month-to-month</td>\n",
       "      <td>Yes</td>\n",
       "      <td>Electronic check</td>\n",
       "      <td>70.70</td>\n",
       "      <td>151.65</td>\n",
       "      <td>Yes</td>\n",
       "    </tr>\n",
       "  </tbody>\n",
       "</table>\n",
       "<p>5 rows × 21 columns</p>\n",
       "</div>"
      ],
      "text/plain": [
       "   customerID  gender  SeniorCitizen Partner Dependents  tenure PhoneService  \\\n",
       "0  7590-VHVEG  Female              0     Yes         No       1           No   \n",
       "1  5575-GNVDE    Male              0      No         No      34          Yes   \n",
       "2  3668-QPYBK    Male              0      No         No       2          Yes   \n",
       "3  7795-CFOCW    Male              0      No         No      45           No   \n",
       "4  9237-HQITU  Female              0      No         No       2          Yes   \n",
       "\n",
       "      MultipleLines InternetService OnlineSecurity  ...  DeviceProtection  \\\n",
       "0  No phone service             DSL             No  ...                No   \n",
       "1                No             DSL            Yes  ...               Yes   \n",
       "2                No             DSL            Yes  ...                No   \n",
       "3  No phone service             DSL            Yes  ...               Yes   \n",
       "4                No     Fiber optic             No  ...                No   \n",
       "\n",
       "  TechSupport StreamingTV StreamingMovies        Contract PaperlessBilling  \\\n",
       "0          No          No              No  Month-to-month              Yes   \n",
       "1          No          No              No        One year               No   \n",
       "2          No          No              No  Month-to-month              Yes   \n",
       "3         Yes          No              No        One year               No   \n",
       "4          No          No              No  Month-to-month              Yes   \n",
       "\n",
       "               PaymentMethod MonthlyCharges  TotalCharges Churn  \n",
       "0           Electronic check          29.85         29.85    No  \n",
       "1               Mailed check          56.95        1889.5    No  \n",
       "2               Mailed check          53.85        108.15   Yes  \n",
       "3  Bank transfer (automatic)          42.30       1840.75    No  \n",
       "4           Electronic check          70.70        151.65   Yes  \n",
       "\n",
       "[5 rows x 21 columns]"
      ]
     },
     "execution_count": 3,
     "metadata": {},
     "output_type": "execute_result"
    }
   ],
   "source": [
    "data.head()"
   ]
  },
  {
   "cell_type": "markdown",
   "metadata": {},
   "source": [
    "Get number of records and feature"
   ]
  },
  {
   "cell_type": "code",
   "execution_count": 4,
   "metadata": {},
   "outputs": [
    {
     "name": "stdout",
     "output_type": "stream",
     "text": [
      "We have  7043  records and  21  features \n"
     ]
    }
   ],
   "source": [
    "print(\"We have \",data.shape[0],\" records and \",data.shape[1],\" features \")"
   ]
  },
  {
   "cell_type": "markdown",
   "metadata": {},
   "source": [
    "List the dataset variables"
   ]
  },
  {
   "cell_type": "code",
   "execution_count": 5,
   "metadata": {},
   "outputs": [
    {
     "data": {
      "text/plain": [
       "['customerID',\n",
       " 'gender',\n",
       " 'SeniorCitizen',\n",
       " 'Partner',\n",
       " 'Dependents',\n",
       " 'tenure',\n",
       " 'PhoneService',\n",
       " 'MultipleLines',\n",
       " 'InternetService',\n",
       " 'OnlineSecurity',\n",
       " 'OnlineBackup',\n",
       " 'DeviceProtection',\n",
       " 'TechSupport',\n",
       " 'StreamingTV',\n",
       " 'StreamingMovies',\n",
       " 'Contract',\n",
       " 'PaperlessBilling',\n",
       " 'PaymentMethod',\n",
       " 'MonthlyCharges',\n",
       " 'TotalCharges',\n",
       " 'Churn']"
      ]
     },
     "execution_count": 5,
     "metadata": {},
     "output_type": "execute_result"
    }
   ],
   "source": [
    "list(data.columns)"
   ]
  },
  {
   "cell_type": "markdown",
   "metadata": {},
   "source": [
    "Group by Churn"
   ]
  },
  {
   "cell_type": "code",
   "execution_count": 6,
   "metadata": {},
   "outputs": [
    {
     "data": {
      "text/plain": [
       "Churn\n",
       "No     5174\n",
       "Yes    1869\n",
       "Name: Churn, dtype: int64"
      ]
     },
     "execution_count": 6,
     "metadata": {},
     "output_type": "execute_result"
    }
   ],
   "source": [
    "data.groupby(['Churn'])['Churn'].count()"
   ]
  },
  {
   "cell_type": "code",
   "execution_count": 7,
   "metadata": {},
   "outputs": [
    {
     "data": {
      "text/plain": [
       "36.122922303826826"
      ]
     },
     "execution_count": 7,
     "metadata": {},
     "output_type": "execute_result"
    }
   ],
   "source": [
    "# pct of attrition // (No/Yes)*100 \n",
    "len(data[data['Churn']=='Yes'])/len(data[data['Churn']=='No']) * 100"
   ]
  },
  {
   "cell_type": "code",
   "execution_count": 8,
   "metadata": {},
   "outputs": [
    {
     "data": {
      "text/plain": [
       "<matplotlib.axes._subplots.AxesSubplot at 0x1bc5d1166a0>"
      ]
     },
     "execution_count": 8,
     "metadata": {},
     "output_type": "execute_result"
    },
    {
     "data": {
      "image/png": "[encoded data removed]",
      "text/plain": [
       "<Figure size 792x504 with 1 Axes>"
      ]
     },
     "metadata": {},
     "output_type": "display_data"
    }
   ],
   "source": [
    "data.groupby(['Churn'])['Churn'].count().plot.bar(width=1,figsize=(11, 7))"
   ]
  },
  {
   "cell_type": "markdown",
   "metadata": {},
   "source": [
    "Group by Gender"
   ]
  },
  {
   "cell_type": "code",
   "execution_count": 9,
   "metadata": {},
   "outputs": [
    {
     "data": {
      "text/plain": [
       "gender  Churn\n",
       "Female  No       2549\n",
       "        Yes       939\n",
       "Male    No       2625\n",
       "        Yes       930\n",
       "Name: Churn, dtype: int64"
      ]
     },
     "execution_count": 9,
     "metadata": {},
     "output_type": "execute_result"
    }
   ],
   "source": [
    "data.groupby(['gender','Churn'])['Churn'].count()"
   ]
  },
  {
   "cell_type": "code",
   "execution_count": 10,
   "metadata": {},
   "outputs": [
    {
     "data": {
      "text/plain": [
       "<matplotlib.axes._subplots.AxesSubplot at 0x1bc5d622978>"
      ]
     },
     "execution_count": 10,
     "metadata": {},
     "output_type": "execute_result"
    },
    {
     "data": {
      "image/png": "[encoded data removed]",
      "text/plain": [
       "<Figure size 792x504 with 1 Axes>"
      ]
     },
     "metadata": {},
     "output_type": "display_data"
    }
   ],
   "source": [
    "data.groupby(['gender','Churn'])['Churn'].count().unstack().plot.bar(width=1,figsize=(11, 7))"
   ]
  },
  {
   "cell_type": "markdown",
   "metadata": {},
   "source": [
    "Group by Partner"
   ]
  },
  {
   "cell_type": "code",
   "execution_count": 11,
   "metadata": {},
   "outputs": [
    {
     "data": {
      "text/plain": [
       "Partner  Churn\n",
       "No       No       2441\n",
       "         Yes      1200\n",
       "Yes      No       2733\n",
       "         Yes       669\n",
       "Name: Churn, dtype: int64"
      ]
     },
     "execution_count": 11,
     "metadata": {},
     "output_type": "execute_result"
    }
   ],
   "source": [
    "data.groupby(['Partner','Churn'])['Churn'].count()"
   ]
  },
  {
   "cell_type": "code",
   "execution_count": 12,
   "metadata": {},
   "outputs": [
    {
     "data": {
      "text/plain": [
       "<matplotlib.axes._subplots.AxesSubplot at 0x1bc5d4d9e80>"
      ]
     },
     "execution_count": 12,
     "metadata": {},
     "output_type": "execute_result"
    },
    {
     "data": {
      "image/png": "[encoded data removed]",
      "text/plain": [
       "<Figure size 792x504 with 1 Axes>"
      ]
     },
     "metadata": {},
     "output_type": "display_data"
    }
   ],
   "source": [
    "data.groupby(['Partner','Churn'])['Churn'].count().unstack().plot.barh(width=1.25,figsize=(11, 7))"
   ]
  },
  {
   "cell_type": "markdown",
   "metadata": {},
   "source": [
    "Group by Contract"
   ]
  },
  {
   "cell_type": "code",
   "execution_count": 13,
   "metadata": {
    "scrolled": false
   },
   "outputs": [
    {
     "data": {
      "text/plain": [
       "Contract        Churn\n",
       "Month-to-month  No       2220\n",
       "                Yes      1655\n",
       "One year        No       1307\n",
       "                Yes       166\n",
       "Two year        No       1647\n",
       "                Yes        48\n",
       "Name: Churn, dtype: int64"
      ]
     },
     "execution_count": 13,
     "metadata": {},
     "output_type": "execute_result"
    }
   ],
   "source": [
    "data.groupby(['Contract','Churn'])['Churn'].count()"
   ]
  },
  {
   "cell_type": "code",
   "execution_count": 14,
   "metadata": {
    "scrolled": false
   },
   "outputs": [
    {
     "data": {
      "text/plain": [
       "<matplotlib.axes._subplots.AxesSubplot at 0x1bc5d54f438>"
      ]
     },
     "execution_count": 14,
     "metadata": {},
     "output_type": "execute_result"
    },
    {
     "data": {
      "image/png": "[encoded data removed]",
      "text/plain": [
       "<Figure size 842.4x648 with 1 Axes>"
      ]
     },
     "metadata": {},
     "output_type": "display_data"
    }
   ],
   "source": [
    "data.groupby(['Contract','Churn'])['Churn'].count().unstack().plot.barh(width=1,figsize=(11.7, 9))"
   ]
  },
  {
   "cell_type": "markdown",
   "metadata": {},
   "source": [
    "Group by PhoneService"
   ]
  },
  {
   "cell_type": "code",
   "execution_count": 15,
   "metadata": {
    "scrolled": false
   },
   "outputs": [
    {
     "data": {
      "text/plain": [
       "PhoneService  Churn\n",
       "No            No        512\n",
       "              Yes       170\n",
       "Yes           No       4662\n",
       "              Yes      1699\n",
       "Name: Churn, dtype: int64"
      ]
     },
     "execution_count": 15,
     "metadata": {},
     "output_type": "execute_result"
    }
   ],
   "source": [
    "data.groupby(['PhoneService','Churn'])['Churn'].count()"
   ]
  },
  {
   "cell_type": "code",
   "execution_count": 16,
   "metadata": {},
   "outputs": [
    {
     "data": {
      "text/plain": [
       "<matplotlib.axes._subplots.AxesSubplot at 0x1bc5d5bf0f0>"
      ]
     },
     "execution_count": 16,
     "metadata": {},
     "output_type": "execute_result"
    },
    {
     "data": {
      "image/png": "[encoded data removed]",
      "text/plain": [
       "<Figure size 792x576 with 1 Axes>"
      ]
     },
     "metadata": {},
     "output_type": "display_data"
    }
   ],
   "source": [
    "data.groupby(['PhoneService','Churn'])['Churn'].count().unstack().plot.barh(width=2,figsize=(11, 8))"
   ]
  },
  {
   "cell_type": "markdown",
   "metadata": {},
   "source": [
    "Group by TechSupport"
   ]
  },
  {
   "cell_type": "code",
   "execution_count": 17,
   "metadata": {},
   "outputs": [
    {
     "data": {
      "text/plain": [
       "TechSupport          Churn\n",
       "No                   No       2027\n",
       "                     Yes      1446\n",
       "No internet service  No       1413\n",
       "                     Yes       113\n",
       "Yes                  No       1734\n",
       "                     Yes       310\n",
       "Name: Churn, dtype: int64"
      ]
     },
     "execution_count": 17,
     "metadata": {},
     "output_type": "execute_result"
    }
   ],
   "source": [
    "data.groupby(['TechSupport','Churn'])['Churn'].count()"
   ]
  },
  {
   "cell_type": "code",
   "execution_count": 18,
   "metadata": {},
   "outputs": [
    {
     "data": {
      "text/plain": [
       "<matplotlib.axes._subplots.AxesSubplot at 0x1bc5db99160>"
      ]
     },
     "execution_count": 18,
     "metadata": {},
     "output_type": "execute_result"
    },
    {
     "data": {
      "image/png": "[encoded data removed]",
      "text/plain": [
       "<Figure size 792x504 with 1 Axes>"
      ]
     },
     "metadata": {},
     "output_type": "display_data"
    }
   ],
   "source": [
    "data.groupby(['TechSupport','Churn'])['Churn'].count().unstack().plot.bar(width=2,figsize=(11, 7))"
   ]
  },
  {
   "cell_type": "markdown",
   "metadata": {},
   "source": [
    "Group by SeniorCitizen"
   ]
  },
  {
   "cell_type": "code",
   "execution_count": 19,
   "metadata": {},
   "outputs": [
    {
     "data": {
      "text/plain": [
       "SeniorCitizen  Churn\n",
       "0              No       4508\n",
       "               Yes      1393\n",
       "1              No        666\n",
       "               Yes       476\n",
       "Name: Churn, dtype: int64"
      ]
     },
     "execution_count": 19,
     "metadata": {},
     "output_type": "execute_result"
    }
   ],
   "source": [
    "data.groupby(['SeniorCitizen','Churn'])['Churn'].count()"
   ]
  },
  {
   "cell_type": "code",
   "execution_count": 20,
   "metadata": {},
   "outputs": [
    {
     "data": {
      "text/plain": [
       "<matplotlib.axes._subplots.AxesSubplot at 0x1bc5dbfd978>"
      ]
     },
     "execution_count": 20,
     "metadata": {},
     "output_type": "execute_result"
    },
    {
     "data": {
      "image/png": "[encoded data removed]",
      "text/plain": [
       "<Figure size 792x504 with 1 Axes>"
      ]
     },
     "metadata": {},
     "output_type": "display_data"
    }
   ],
   "source": [
    "data.groupby(['SeniorCitizen','Churn'])['Churn'].count().unstack().plot.bar(width=2,figsize=(11, 7))"
   ]
  },
  {
   "cell_type": "markdown",
   "metadata": {},
   "source": [
    "#### 4. Data Preprocessing"
   ]
  },
  {
   "cell_type": "markdown",
   "metadata": {},
   "source": [
    "Handle Missing Values"
   ]
  },
  {
   "cell_type": "markdown",
   "metadata": {},
   "source": [
    "Identify Missing values"
   ]
  },
  {
   "cell_type": "code",
   "execution_count": 21,
   "metadata": {},
   "outputs": [
    {
     "data": {
      "text/plain": [
       "customerID          0\n",
       "gender              0\n",
       "SeniorCitizen       0\n",
       "Partner             0\n",
       "Dependents          0\n",
       "tenure              0\n",
       "PhoneService        0\n",
       "MultipleLines       0\n",
       "InternetService     0\n",
       "OnlineSecurity      0\n",
       "OnlineBackup        0\n",
       "DeviceProtection    0\n",
       "TechSupport         0\n",
       "StreamingTV         0\n",
       "StreamingMovies     0\n",
       "Contract            0\n",
       "PaperlessBilling    0\n",
       "PaymentMethod       0\n",
       "MonthlyCharges      0\n",
       "TotalCharges        0\n",
       "Churn               0\n",
       "dtype: int64"
      ]
     },
     "execution_count": 21,
     "metadata": {},
     "output_type": "execute_result"
    }
   ],
   "source": [
    "data.isna().sum()"
   ]
  },
  {
   "cell_type": "markdown",
   "metadata": {},
   "source": [
    "Check data types"
   ]
  },
  {
   "cell_type": "code",
   "execution_count": 22,
   "metadata": {
    "scrolled": true
   },
   "outputs": [
    {
     "data": {
      "text/plain": [
       "customerID           object\n",
       "gender               object\n",
       "SeniorCitizen         int64\n",
       "Partner              object\n",
       "Dependents           object\n",
       "tenure                int64\n",
       "PhoneService         object\n",
       "MultipleLines        object\n",
       "InternetService      object\n",
       "OnlineSecurity       object\n",
       "OnlineBackup         object\n",
       "DeviceProtection     object\n",
       "TechSupport          object\n",
       "StreamingTV          object\n",
       "StreamingMovies      object\n",
       "Contract             object\n",
       "PaperlessBilling     object\n",
       "PaymentMethod        object\n",
       "MonthlyCharges      float64\n",
       "TotalCharges         object\n",
       "Churn                object\n",
       "dtype: object"
      ]
     },
     "execution_count": 22,
     "metadata": {},
     "output_type": "execute_result"
    }
   ],
   "source": [
    "data.dtypes"
   ]
  },
  {
   "cell_type": "markdown",
   "metadata": {},
   "source": [
    "Convert numeric features to number type from Object type"
   ]
  },
  {
   "cell_type": "code",
   "execution_count": 23,
   "metadata": {},
   "outputs": [],
   "source": [
    "data=data.apply(lambda col: pd.factorize(col)[0])"
   ]
  },
  {
   "cell_type": "code",
   "execution_count": 24,
   "metadata": {},
   "outputs": [
    {
     "data": {
      "text/html": [
       "<div>\n",
       "<style scoped>\n",
       "    .dataframe tbody tr th:only-of-type {\n",
       "        vertical-align: middle;\n",
       "    }\n",
       "\n",
       "    .dataframe tbody tr th {\n",
       "        vertical-align: top;\n",
       "    }\n",
       "\n",
       "    .dataframe thead th {\n",
       "        text-align: right;\n",
       "    }\n",
       "</style>\n",
       "<table border=\"1\" class=\"dataframe\">\n",
       "  <thead>\n",
       "    <tr style=\"text-align: right;\">\n",
       "      <th></th>\n",
       "      <th>customerID</th>\n",
       "      <th>gender</th>\n",
       "      <th>SeniorCitizen</th>\n",
       "      <th>Partner</th>\n",
       "      <th>Dependents</th>\n",
       "      <th>tenure</th>\n",
       "      <th>PhoneService</th>\n",
       "      <th>MultipleLines</th>\n",
       "      <th>InternetService</th>\n",
       "      <th>OnlineSecurity</th>\n",
       "      <th>...</th>\n",
       "      <th>DeviceProtection</th>\n",
       "      <th>TechSupport</th>\n",
       "      <th>StreamingTV</th>\n",
       "      <th>StreamingMovies</th>\n",
       "      <th>Contract</th>\n",
       "      <th>PaperlessBilling</th>\n",
       "      <th>PaymentMethod</th>\n",
       "      <th>MonthlyCharges</th>\n",
       "      <th>TotalCharges</th>\n",
       "      <th>Churn</th>\n",
       "    </tr>\n",
       "  </thead>\n",
       "  <tbody>\n",
       "    <tr>\n",
       "      <th>0</th>\n",
       "      <td>0</td>\n",
       "      <td>0</td>\n",
       "      <td>0</td>\n",
       "      <td>0</td>\n",
       "      <td>0</td>\n",
       "      <td>0</td>\n",
       "      <td>0</td>\n",
       "      <td>0</td>\n",
       "      <td>0</td>\n",
       "      <td>0</td>\n",
       "      <td>...</td>\n",
       "      <td>0</td>\n",
       "      <td>0</td>\n",
       "      <td>0</td>\n",
       "      <td>0</td>\n",
       "      <td>0</td>\n",
       "      <td>0</td>\n",
       "      <td>0</td>\n",
       "      <td>0</td>\n",
       "      <td>0</td>\n",
       "      <td>0</td>\n",
       "    </tr>\n",
       "    <tr>\n",
       "      <th>1</th>\n",
       "      <td>1</td>\n",
       "      <td>1</td>\n",
       "      <td>0</td>\n",
       "      <td>1</td>\n",
       "      <td>0</td>\n",
       "      <td>1</td>\n",
       "      <td>1</td>\n",
       "      <td>1</td>\n",
       "      <td>0</td>\n",
       "      <td>1</td>\n",
       "      <td>...</td>\n",
       "      <td>1</td>\n",
       "      <td>0</td>\n",
       "      <td>0</td>\n",
       "      <td>0</td>\n",
       "      <td>1</td>\n",
       "      <td>1</td>\n",
       "      <td>1</td>\n",
       "      <td>1</td>\n",
       "      <td>1</td>\n",
       "      <td>0</td>\n",
       "    </tr>\n",
       "    <tr>\n",
       "      <th>2</th>\n",
       "      <td>2</td>\n",
       "      <td>1</td>\n",
       "      <td>0</td>\n",
       "      <td>1</td>\n",
       "      <td>0</td>\n",
       "      <td>2</td>\n",
       "      <td>1</td>\n",
       "      <td>1</td>\n",
       "      <td>0</td>\n",
       "      <td>1</td>\n",
       "      <td>...</td>\n",
       "      <td>0</td>\n",
       "      <td>0</td>\n",
       "      <td>0</td>\n",
       "      <td>0</td>\n",
       "      <td>0</td>\n",
       "      <td>0</td>\n",
       "      <td>1</td>\n",
       "      <td>2</td>\n",
       "      <td>2</td>\n",
       "      <td>1</td>\n",
       "    </tr>\n",
       "    <tr>\n",
       "      <th>3</th>\n",
       "      <td>3</td>\n",
       "      <td>1</td>\n",
       "      <td>0</td>\n",
       "      <td>1</td>\n",
       "      <td>0</td>\n",
       "      <td>3</td>\n",
       "      <td>0</td>\n",
       "      <td>0</td>\n",
       "      <td>0</td>\n",
       "      <td>1</td>\n",
       "      <td>...</td>\n",
       "      <td>1</td>\n",
       "      <td>1</td>\n",
       "      <td>0</td>\n",
       "      <td>0</td>\n",
       "      <td>1</td>\n",
       "      <td>1</td>\n",
       "      <td>2</td>\n",
       "      <td>3</td>\n",
       "      <td>3</td>\n",
       "      <td>0</td>\n",
       "    </tr>\n",
       "    <tr>\n",
       "      <th>4</th>\n",
       "      <td>4</td>\n",
       "      <td>0</td>\n",
       "      <td>0</td>\n",
       "      <td>1</td>\n",
       "      <td>0</td>\n",
       "      <td>2</td>\n",
       "      <td>1</td>\n",
       "      <td>1</td>\n",
       "      <td>1</td>\n",
       "      <td>0</td>\n",
       "      <td>...</td>\n",
       "      <td>0</td>\n",
       "      <td>0</td>\n",
       "      <td>0</td>\n",
       "      <td>0</td>\n",
       "      <td>0</td>\n",
       "      <td>0</td>\n",
       "      <td>0</td>\n",
       "      <td>4</td>\n",
       "      <td>4</td>\n",
       "      <td>1</td>\n",
       "    </tr>\n",
       "  </tbody>\n",
       "</table>\n",
       "<p>5 rows × 21 columns</p>\n",
       "</div>"
      ],
      "text/plain": [
       "   customerID  gender  SeniorCitizen  Partner  Dependents  tenure  \\\n",
       "0           0       0              0        0           0       0   \n",
       "1           1       1              0        1           0       1   \n",
       "2           2       1              0        1           0       2   \n",
       "3           3       1              0        1           0       3   \n",
       "4           4       0              0        1           0       2   \n",
       "\n",
       "   PhoneService  MultipleLines  InternetService  OnlineSecurity  ...    \\\n",
       "0             0              0                0               0  ...     \n",
       "1             1              1                0               1  ...     \n",
       "2             1              1                0               1  ...     \n",
       "3             0              0                0               1  ...     \n",
       "4             1              1                1               0  ...     \n",
       "\n",
       "   DeviceProtection  TechSupport  StreamingTV  StreamingMovies  Contract  \\\n",
       "0                 0            0            0                0         0   \n",
       "1                 1            0            0                0         1   \n",
       "2                 0            0            0                0         0   \n",
       "3                 1            1            0                0         1   \n",
       "4                 0            0            0                0         0   \n",
       "\n",
       "   PaperlessBilling  PaymentMethod  MonthlyCharges  TotalCharges  Churn  \n",
       "0                 0              0               0             0      0  \n",
       "1                 1              1               1             1      0  \n",
       "2                 0              1               2             2      1  \n",
       "3                 1              2               3             3      0  \n",
       "4                 0              0               4             4      1  \n",
       "\n",
       "[5 rows x 21 columns]"
      ]
     },
     "execution_count": 24,
     "metadata": {},
     "output_type": "execute_result"
    }
   ],
   "source": [
    "data.head()"
   ]
  },
  {
   "cell_type": "code",
   "execution_count": 25,
   "metadata": {},
   "outputs": [
    {
     "data": {
      "text/plain": [
       "Index(['customerID', 'gender', 'SeniorCitizen', 'Partner', 'Dependents',\n",
       "       'tenure', 'PhoneService', 'MultipleLines', 'InternetService',\n",
       "       'OnlineSecurity', 'OnlineBackup', 'DeviceProtection', 'TechSupport',\n",
       "       'StreamingTV', 'StreamingMovies', 'Contract', 'PaperlessBilling',\n",
       "       'PaymentMethod', 'MonthlyCharges', 'TotalCharges', 'Churn'],\n",
       "      dtype='object')"
      ]
     },
     "execution_count": 25,
     "metadata": {},
     "output_type": "execute_result"
    }
   ],
   "source": [
    "data.columns"
   ]
  },
  {
   "cell_type": "code",
   "execution_count": 26,
   "metadata": {},
   "outputs": [],
   "source": [
    "X=data[['gender', 'SeniorCitizen', 'Partner', 'Dependents',\n",
    "       'tenure', 'PhoneService', 'MultipleLines', 'InternetService',\n",
    "       'OnlineSecurity', 'OnlineBackup', 'DeviceProtection', 'TechSupport',\n",
    "       'StreamingTV', 'StreamingMovies', 'Contract', 'PaperlessBilling',\n",
    "       'PaymentMethod', 'MonthlyCharges', 'TotalCharges']]"
   ]
  },
  {
   "cell_type": "markdown",
   "metadata": {},
   "source": [
    "### 5. Get Features and target/label"
   ]
  },
  {
   "cell_type": "code",
   "execution_count": 27,
   "metadata": {},
   "outputs": [],
   "source": [
    "features=data[['gender', 'SeniorCitizen', 'Partner','tenure', 'PhoneService', \n",
    "               'MultipleLines', 'InternetService','OnlineSecurity', 'OnlineBackup', \n",
    "               'DeviceProtection', 'TechSupport','Contract', 'PaperlessBilling',\n",
    "               'PaymentMethod', 'MonthlyCharges', 'TotalCharges']]\n",
    "\n",
    "target=data['Churn']"
   ]
  },
  {
   "cell_type": "markdown",
   "metadata": {},
   "source": [
    "Scaling our features"
   ]
  },
  {
   "cell_type": "code",
   "execution_count": 28,
   "metadata": {},
   "outputs": [],
   "source": [
    "features=MinMaxScaler().fit_transform(features)\n",
    "target=data['Churn'].values\n",
    "target=np_utils.to_categorical(target)"
   ]
  },
  {
   "cell_type": "markdown",
   "metadata": {},
   "source": [
    "#### 6. Splitting our data into training and testing set"
   ]
  },
  {
   "cell_type": "code",
   "execution_count": 29,
   "metadata": {},
   "outputs": [],
   "source": [
    "X_train, X_test, y_train, y_test=train_test_split(features,target, test_size=0.3,random_state=7)"
   ]
  },
  {
   "cell_type": "code",
   "execution_count": 30,
   "metadata": {},
   "outputs": [
    {
     "data": {
      "text/plain": [
       "((4930, 16), (2113, 16), (4930, 2), (2113, 2))"
      ]
     },
     "execution_count": 30,
     "metadata": {},
     "output_type": "execute_result"
    }
   ],
   "source": [
    "X_train.shape, X_test.shape, y_train.shape, y_test.shape"
   ]
  },
  {
   "cell_type": "markdown",
   "metadata": {},
   "source": [
    "#### 7. Create our Machine Learning Model"
   ]
  },
  {
   "cell_type": "code",
   "execution_count": 31,
   "metadata": {},
   "outputs": [],
   "source": [
    "model=Sequential()\n",
    "model.add(Dense(units=8,input_dim=X_train.shape[1], activation='relu'))\n",
    "model.add(Dense(units=4, activation='relu'))\n",
    "model.add(Dense(units=2, activation='relu'))\n",
    "model.add(Dense(units=len(data['Churn'].unique()), activation='softmax'))"
   ]
  },
  {
   "cell_type": "code",
   "execution_count": 32,
   "metadata": {},
   "outputs": [
    {
     "name": "stdout",
     "output_type": "stream",
     "text": [
      "_________________________________________________________________\n",
      "Layer (type)                 Output Shape              Param #   \n",
      "=================================================================\n",
      "dense_1 (Dense)              (None, 8)                 136       \n",
      "_________________________________________________________________\n",
      "dense_2 (Dense)              (None, 4)                 36        \n",
      "_________________________________________________________________\n",
      "dense_3 (Dense)              (None, 2)                 10        \n",
      "_________________________________________________________________\n",
      "dense_4 (Dense)              (None, 2)                 6         \n",
      "=================================================================\n",
      "Total params: 188\n",
      "Trainable params: 188\n",
      "Non-trainable params: 0\n",
      "_________________________________________________________________\n"
     ]
    }
   ],
   "source": [
    "# Compile model\n",
    "model.compile(loss='binary_crossentropy',optimizer='adam',metrics=['accuracy'])\n",
    "model.summary()"
   ]
  },
  {
   "cell_type": "code",
   "execution_count": 33,
   "metadata": {},
   "outputs": [
    {
     "name": "stdout",
     "output_type": "stream",
     "text": [
      "Train on 3451 samples, validate on 1479 samples\n",
      "Epoch 1/100\n",
      "3451/3451 [==============================] - 1s 212us/step - loss: 0.6868 - acc: 0.6865 - val_loss: 0.6716 - val_acc: 0.7289\n",
      "Epoch 2/100\n",
      "3451/3451 [==============================] - 0s 29us/step - loss: 0.6606 - acc: 0.7357 - val_loss: 0.6509 - val_acc: 0.7377\n",
      "Epoch 3/100\n",
      "3451/3451 [==============================] - 0s 41us/step - loss: 0.6421 - acc: 0.7424 - val_loss: 0.6339 - val_acc: 0.7404\n",
      "Epoch 4/100\n",
      "3451/3451 [==============================] - 0s 42us/step - loss: 0.6269 - acc: 0.7407 - val_loss: 0.6206 - val_acc: 0.7397\n",
      "Epoch 5/100\n",
      "3451/3451 [==============================] - 0s 42us/step - loss: 0.6146 - acc: 0.7409 - val_loss: 0.6098 - val_acc: 0.7397\n",
      "Epoch 6/100\n",
      "3451/3451 [==============================] - 0s 41us/step - loss: 0.6044 - acc: 0.7409 - val_loss: 0.6010 - val_acc: 0.7404\n",
      "Epoch 7/100\n",
      "3451/3451 [==============================] - 0s 41us/step - loss: 0.5949 - acc: 0.7407 - val_loss: 0.5924 - val_acc: 0.7404\n",
      "Epoch 8/100\n",
      "3451/3451 [==============================] - 0s 43us/step - loss: 0.5809 - acc: 0.7467 - val_loss: 0.5750 - val_acc: 0.7437\n",
      "Epoch 9/100\n",
      "3451/3451 [==============================] - 0s 39us/step - loss: 0.5639 - acc: 0.7546 - val_loss: 0.5570 - val_acc: 0.7512\n",
      "Epoch 10/100\n",
      "3451/3451 [==============================] - 0s 39us/step - loss: 0.5475 - acc: 0.7644 - val_loss: 0.5418 - val_acc: 0.7620\n",
      "Epoch 11/100\n",
      "3451/3451 [==============================] - 0s 42us/step - loss: 0.5331 - acc: 0.7705 - val_loss: 0.5284 - val_acc: 0.7721\n",
      "Epoch 12/100\n",
      "3451/3451 [==============================] - 0s 42us/step - loss: 0.5215 - acc: 0.7775 - val_loss: 0.5187 - val_acc: 0.7742\n",
      "Epoch 13/100\n",
      "3451/3451 [==============================] - 0s 34us/step - loss: 0.5113 - acc: 0.7833 - val_loss: 0.5090 - val_acc: 0.7843\n",
      "Epoch 14/100\n",
      "3451/3451 [==============================] - 0s 40us/step - loss: 0.5028 - acc: 0.7830 - val_loss: 0.5020 - val_acc: 0.7789\n",
      "Epoch 15/100\n",
      "3451/3451 [==============================] - 0s 42us/step - loss: 0.4950 - acc: 0.7867 - val_loss: 0.4956 - val_acc: 0.7877\n",
      "Epoch 16/100\n",
      "3451/3451 [==============================] - 0s 32us/step - loss: 0.4894 - acc: 0.7867 - val_loss: 0.4911 - val_acc: 0.7870\n",
      "Epoch 17/100\n",
      "3451/3451 [==============================] - 0s 35us/step - loss: 0.4836 - acc: 0.7905 - val_loss: 0.4851 - val_acc: 0.7830\n",
      "Epoch 18/100\n",
      "3451/3451 [==============================] - 0s 40us/step - loss: 0.4781 - acc: 0.7951 - val_loss: 0.4822 - val_acc: 0.7830\n",
      "Epoch 19/100\n",
      "3451/3451 [==============================] - 0s 42us/step - loss: 0.4747 - acc: 0.7914 - val_loss: 0.4778 - val_acc: 0.7836\n",
      "Epoch 20/100\n",
      "3451/3451 [==============================] - 0s 36us/step - loss: 0.4709 - acc: 0.7937 - val_loss: 0.4743 - val_acc: 0.7823\n",
      "Epoch 21/100\n",
      "3451/3451 [==============================] - 0s 42us/step - loss: 0.4669 - acc: 0.7940 - val_loss: 0.4715 - val_acc: 0.7816\n",
      "Epoch 22/100\n",
      "3451/3451 [==============================] - 0s 34us/step - loss: 0.4637 - acc: 0.7951 - val_loss: 0.4686 - val_acc: 0.7857\n",
      "Epoch 23/100\n",
      "3451/3451 [==============================] - 0s 39us/step - loss: 0.4610 - acc: 0.7946 - val_loss: 0.4647 - val_acc: 0.7809\n",
      "Epoch 24/100\n",
      "3451/3451 [==============================] - 0s 28us/step - loss: 0.4583 - acc: 0.7989 - val_loss: 0.4625 - val_acc: 0.7809\n",
      "Epoch 25/100\n",
      "3451/3451 [==============================] - 0s 41us/step - loss: 0.4548 - acc: 0.7980 - val_loss: 0.4601 - val_acc: 0.7857\n",
      "Epoch 26/100\n",
      "3451/3451 [==============================] - 0s 35us/step - loss: 0.4526 - acc: 0.7963 - val_loss: 0.4584 - val_acc: 0.7843\n",
      "Epoch 27/100\n",
      "3451/3451 [==============================] - 0s 32us/step - loss: 0.4505 - acc: 0.7986 - val_loss: 0.4569 - val_acc: 0.7816\n",
      "Epoch 28/100\n",
      "3451/3451 [==============================] - 0s 31us/step - loss: 0.4489 - acc: 0.7966 - val_loss: 0.4551 - val_acc: 0.7884\n",
      "Epoch 29/100\n",
      "3451/3451 [==============================] - 0s 35us/step - loss: 0.4469 - acc: 0.7983 - val_loss: 0.4539 - val_acc: 0.7863\n",
      "Epoch 30/100\n",
      "3451/3451 [==============================] - 0s 37us/step - loss: 0.4454 - acc: 0.7992 - val_loss: 0.4537 - val_acc: 0.7836\n",
      "Epoch 31/100\n",
      "3451/3451 [==============================] - 0s 37us/step - loss: 0.4440 - acc: 0.7998 - val_loss: 0.4515 - val_acc: 0.7890\n",
      "Epoch 32/100\n",
      "3451/3451 [==============================] - 0s 38us/step - loss: 0.4417 - acc: 0.8018 - val_loss: 0.4514 - val_acc: 0.7830\n",
      "Epoch 33/100\n",
      "3451/3451 [==============================] - 0s 31us/step - loss: 0.4407 - acc: 0.8003 - val_loss: 0.4501 - val_acc: 0.7843\n",
      "Epoch 34/100\n",
      "3451/3451 [==============================] - 0s 28us/step - loss: 0.4395 - acc: 0.7992 - val_loss: 0.4488 - val_acc: 0.7884\n",
      "Epoch 35/100\n",
      "3451/3451 [==============================] - 0s 28us/step - loss: 0.4392 - acc: 0.7986 - val_loss: 0.4486 - val_acc: 0.7850\n",
      "Epoch 36/100\n",
      "3451/3451 [==============================] - 0s 31us/step - loss: 0.4374 - acc: 0.8015 - val_loss: 0.4472 - val_acc: 0.7877\n",
      "Epoch 37/100\n",
      "3451/3451 [==============================] - 0s 40us/step - loss: 0.4365 - acc: 0.8024 - val_loss: 0.4468 - val_acc: 0.7863\n",
      "Epoch 38/100\n",
      "3451/3451 [==============================] - 0s 30us/step - loss: 0.4351 - acc: 0.7969 - val_loss: 0.4466 - val_acc: 0.7850\n",
      "Epoch 39/100\n",
      "3451/3451 [==============================] - 0s 29us/step - loss: 0.4341 - acc: 0.7992 - val_loss: 0.4458 - val_acc: 0.7863\n",
      "Epoch 40/100\n",
      "3451/3451 [==============================] - 0s 27us/step - loss: 0.4336 - acc: 0.8012 - val_loss: 0.4452 - val_acc: 0.7857\n",
      "Epoch 41/100\n",
      "3451/3451 [==============================] - 0s 28us/step - loss: 0.4322 - acc: 0.8027 - val_loss: 0.4453 - val_acc: 0.7870\n",
      "Epoch 42/100\n",
      "3451/3451 [==============================] - 0s 27us/step - loss: 0.4320 - acc: 0.7986 - val_loss: 0.4443 - val_acc: 0.7870\n",
      "Epoch 43/100\n",
      "3451/3451 [==============================] - 0s 27us/step - loss: 0.4310 - acc: 0.7998 - val_loss: 0.4454 - val_acc: 0.7843\n",
      "Epoch 44/100\n",
      "3451/3451 [==============================] - 0s 29us/step - loss: 0.4306 - acc: 0.8006 - val_loss: 0.4440 - val_acc: 0.7870\n",
      "Epoch 45/100\n",
      "3451/3451 [==============================] - 0s 27us/step - loss: 0.4296 - acc: 0.8018 - val_loss: 0.4432 - val_acc: 0.7863\n",
      "Epoch 46/100\n",
      "3451/3451 [==============================] - 0s 27us/step - loss: 0.4291 - acc: 0.7998 - val_loss: 0.4435 - val_acc: 0.7843\n",
      "Epoch 47/100\n",
      "3451/3451 [==============================] - 0s 28us/step - loss: 0.4284 - acc: 0.8009 - val_loss: 0.4421 - val_acc: 0.7897\n",
      "Epoch 48/100\n",
      "3451/3451 [==============================] - 0s 38us/step - loss: 0.4282 - acc: 0.7963 - val_loss: 0.4422 - val_acc: 0.7870\n",
      "Epoch 49/100\n",
      "3451/3451 [==============================] - 0s 34us/step - loss: 0.4273 - acc: 0.8006 - val_loss: 0.4416 - val_acc: 0.7877\n",
      "Epoch 50/100\n",
      "3451/3451 [==============================] - 0s 35us/step - loss: 0.4267 - acc: 0.8030 - val_loss: 0.4430 - val_acc: 0.7789\n",
      "Epoch 51/100\n",
      "3451/3451 [==============================] - 0s 40us/step - loss: 0.4277 - acc: 0.8024 - val_loss: 0.4412 - val_acc: 0.7877\n",
      "Epoch 52/100\n",
      "3451/3451 [==============================] - 0s 33us/step - loss: 0.4257 - acc: 0.8056 - val_loss: 0.4414 - val_acc: 0.7843\n",
      "Epoch 53/100\n",
      "3451/3451 [==============================] - 0s 28us/step - loss: 0.4256 - acc: 0.8009 - val_loss: 0.4410 - val_acc: 0.7911\n",
      "Epoch 54/100\n",
      "3451/3451 [==============================] - 0s 38us/step - loss: 0.4256 - acc: 0.8030 - val_loss: 0.4423 - val_acc: 0.7830\n",
      "Epoch 55/100\n",
      "3451/3451 [==============================] - 0s 39us/step - loss: 0.4245 - acc: 0.8053 - val_loss: 0.4435 - val_acc: 0.7789\n",
      "Epoch 56/100\n",
      "3451/3451 [==============================] - 0s 39us/step - loss: 0.4243 - acc: 0.8047 - val_loss: 0.4403 - val_acc: 0.7863\n",
      "Epoch 57/100\n",
      "3451/3451 [==============================] - 0s 37us/step - loss: 0.4239 - acc: 0.8030 - val_loss: 0.4436 - val_acc: 0.7823\n",
      "Epoch 58/100\n",
      "3451/3451 [==============================] - 0s 39us/step - loss: 0.4243 - acc: 0.8018 - val_loss: 0.4416 - val_acc: 0.7823\n",
      "Epoch 59/100\n",
      "3451/3451 [==============================] - 0s 41us/step - loss: 0.4235 - acc: 0.8018 - val_loss: 0.4400 - val_acc: 0.7877\n",
      "Epoch 60/100\n"
     ]
    },
    {
     "name": "stdout",
     "output_type": "stream",
     "text": [
      "3451/3451 [==============================] - 0s 42us/step - loss: 0.4232 - acc: 0.8015 - val_loss: 0.4403 - val_acc: 0.7897\n",
      "Epoch 61/100\n",
      "3451/3451 [==============================] - 0s 47us/step - loss: 0.4233 - acc: 0.8001 - val_loss: 0.4403 - val_acc: 0.7884\n",
      "Epoch 62/100\n",
      "3451/3451 [==============================] - 0s 40us/step - loss: 0.4240 - acc: 0.7986 - val_loss: 0.4426 - val_acc: 0.7748\n",
      "Epoch 63/100\n",
      "3451/3451 [==============================] - 0s 34us/step - loss: 0.4240 - acc: 0.8027 - val_loss: 0.4426 - val_acc: 0.7762\n",
      "Epoch 64/100\n",
      "3451/3451 [==============================] - 0s 41us/step - loss: 0.4223 - acc: 0.8024 - val_loss: 0.4398 - val_acc: 0.7863\n",
      "Epoch 65/100\n",
      "3451/3451 [==============================] - 0s 40us/step - loss: 0.4216 - acc: 0.8035 - val_loss: 0.4416 - val_acc: 0.7836\n",
      "Epoch 66/100\n",
      "3451/3451 [==============================] - 0s 41us/step - loss: 0.4212 - acc: 0.7992 - val_loss: 0.4413 - val_acc: 0.7803\n",
      "Epoch 67/100\n",
      "3451/3451 [==============================] - 0s 35us/step - loss: 0.4214 - acc: 0.8012 - val_loss: 0.4410 - val_acc: 0.7850\n",
      "Epoch 68/100\n",
      "3451/3451 [==============================] - 0s 42us/step - loss: 0.4202 - acc: 0.8027 - val_loss: 0.4401 - val_acc: 0.7857\n",
      "Epoch 69/100\n",
      "3451/3451 [==============================] - 0s 43us/step - loss: 0.4211 - acc: 0.8035 - val_loss: 0.4397 - val_acc: 0.7850\n",
      "Epoch 70/100\n",
      "3451/3451 [==============================] - 0s 43us/step - loss: 0.4202 - acc: 0.8041 - val_loss: 0.4409 - val_acc: 0.7823\n",
      "Epoch 71/100\n",
      "3451/3451 [==============================] - 0s 30us/step - loss: 0.4204 - acc: 0.8021 - val_loss: 0.4399 - val_acc: 0.7863\n",
      "Epoch 72/100\n",
      "3451/3451 [==============================] - 0s 28us/step - loss: 0.4206 - acc: 0.7986 - val_loss: 0.4394 - val_acc: 0.7877\n",
      "Epoch 73/100\n",
      "3451/3451 [==============================] - 0s 31us/step - loss: 0.4202 - acc: 0.8021 - val_loss: 0.4403 - val_acc: 0.7823\n",
      "Epoch 74/100\n",
      "3451/3451 [==============================] - 0s 33us/step - loss: 0.4197 - acc: 0.8027 - val_loss: 0.4410 - val_acc: 0.7796\n",
      "Epoch 75/100\n",
      "3451/3451 [==============================] - 0s 32us/step - loss: 0.4194 - acc: 0.8041 - val_loss: 0.4409 - val_acc: 0.7843\n",
      "Epoch 76/100\n",
      "3451/3451 [==============================] - 0s 29us/step - loss: 0.4197 - acc: 0.8032 - val_loss: 0.4398 - val_acc: 0.7850\n",
      "Epoch 77/100\n",
      "3451/3451 [==============================] - 0s 29us/step - loss: 0.4189 - acc: 0.8032 - val_loss: 0.4418 - val_acc: 0.7762\n",
      "Epoch 78/100\n",
      "3451/3451 [==============================] - 0s 30us/step - loss: 0.4188 - acc: 0.8024 - val_loss: 0.4400 - val_acc: 0.7857\n",
      "Epoch 79/100\n",
      "3451/3451 [==============================] - 0s 30us/step - loss: 0.4189 - acc: 0.8015 - val_loss: 0.4419 - val_acc: 0.7762\n",
      "Epoch 80/100\n",
      "3451/3451 [==============================] - 0s 36us/step - loss: 0.4188 - acc: 0.8027 - val_loss: 0.4404 - val_acc: 0.7836\n",
      "Epoch 81/100\n",
      "3451/3451 [==============================] - 0s 40us/step - loss: 0.4185 - acc: 0.8053 - val_loss: 0.4422 - val_acc: 0.7789\n",
      "Epoch 82/100\n",
      "3451/3451 [==============================] - 0s 39us/step - loss: 0.4178 - acc: 0.8015 - val_loss: 0.4406 - val_acc: 0.7816\n",
      "Epoch 83/100\n",
      "3451/3451 [==============================] - 0s 40us/step - loss: 0.4171 - acc: 0.8041 - val_loss: 0.4402 - val_acc: 0.7850\n",
      "Epoch 84/100\n",
      "3451/3451 [==============================] - 0s 35us/step - loss: 0.4176 - acc: 0.8038 - val_loss: 0.4422 - val_acc: 0.7782\n",
      "Epoch 85/100\n",
      "3451/3451 [==============================] - 0s 31us/step - loss: 0.4175 - acc: 0.8030 - val_loss: 0.4409 - val_acc: 0.7816\n",
      "Epoch 86/100\n",
      "3451/3451 [==============================] - 0s 40us/step - loss: 0.4177 - acc: 0.8047 - val_loss: 0.4422 - val_acc: 0.7776\n",
      "Epoch 87/100\n",
      "3451/3451 [==============================] - 0s 40us/step - loss: 0.4180 - acc: 0.8027 - val_loss: 0.4409 - val_acc: 0.7816\n",
      "Epoch 88/100\n",
      "3451/3451 [==============================] - 0s 37us/step - loss: 0.4170 - acc: 0.8044 - val_loss: 0.4423 - val_acc: 0.7816\n",
      "Epoch 89/100\n",
      "3451/3451 [==============================] - 0s 30us/step - loss: 0.4167 - acc: 0.8035 - val_loss: 0.4402 - val_acc: 0.7890\n",
      "Epoch 90/100\n",
      "3451/3451 [==============================] - 0s 38us/step - loss: 0.4182 - acc: 0.8044 - val_loss: 0.4400 - val_acc: 0.7850\n",
      "Epoch 91/100\n",
      "3451/3451 [==============================] - 0s 35us/step - loss: 0.4166 - acc: 0.8001 - val_loss: 0.4407 - val_acc: 0.7836\n",
      "Epoch 92/100\n",
      "3451/3451 [==============================] - 0s 37us/step - loss: 0.4163 - acc: 0.8027 - val_loss: 0.4411 - val_acc: 0.7911\n",
      "Epoch 93/100\n",
      "3451/3451 [==============================] - 0s 33us/step - loss: 0.4162 - acc: 0.8018 - val_loss: 0.4405 - val_acc: 0.7890\n",
      "Epoch 94/100\n",
      "3451/3451 [==============================] - 0s 40us/step - loss: 0.4164 - acc: 0.8041 - val_loss: 0.4406 - val_acc: 0.7863\n",
      "Epoch 95/100\n",
      "3451/3451 [==============================] - 0s 36us/step - loss: 0.4164 - acc: 0.8021 - val_loss: 0.4446 - val_acc: 0.7721\n",
      "Epoch 96/100\n",
      "3451/3451 [==============================] - 0s 45us/step - loss: 0.4159 - acc: 0.8015 - val_loss: 0.4431 - val_acc: 0.7762\n",
      "Epoch 97/100\n",
      "3451/3451 [==============================] - 0s 40us/step - loss: 0.4153 - acc: 0.8027 - val_loss: 0.4414 - val_acc: 0.7803\n",
      "Epoch 98/100\n",
      "3451/3451 [==============================] - 0s 35us/step - loss: 0.4159 - acc: 0.8024 - val_loss: 0.4410 - val_acc: 0.7782\n",
      "Epoch 99/100\n",
      "3451/3451 [==============================] - 0s 41us/step - loss: 0.4152 - acc: 0.8041 - val_loss: 0.4415 - val_acc: 0.7789\n",
      "Epoch 100/100\n",
      "3451/3451 [==============================] - 0s 37us/step - loss: 0.4153 - acc: 0.8021 - val_loss: 0.4419 - val_acc: 0.7803\n"
     ]
    }
   ],
   "source": [
    "# Fit model\n",
    "history=model.fit(X_train,y_train, batch_size=64, epochs=100,validation_split=0.3)"
   ]
  },
  {
   "cell_type": "markdown",
   "metadata": {},
   "source": [
    "#### 8. Evaluate our model"
   ]
  },
  {
   "cell_type": "code",
   "execution_count": 34,
   "metadata": {},
   "outputs": [
    {
     "name": "stdout",
     "output_type": "stream",
     "text": [
      "2113/2113 [==============================] - 0s 25us/step\n",
      "Accuracy :  0.7846663511594889\n"
     ]
    }
   ],
   "source": [
    "print(\"Accuracy : \",model.evaluate(X_test,y_test)[1])"
   ]
  },
  {
   "cell_type": "code",
   "execution_count": 35,
   "metadata": {},
   "outputs": [
    {
     "data": {
      "image/png": "[encoded data removed]",
      "text/plain": [
       "<Figure size 432x288 with 1 Axes>"
      ]
     },
     "metadata": {},
     "output_type": "display_data"
    }
   ],
   "source": [
    "plt.plot(history.history['loss'],color='green',label='training loss')\n",
    "plt.plot(history.history['val_loss'],color='orange',label='validation loss')\n",
    "plt.legend(loc='upper right')\n",
    "plt.show()"
   ]
  },
  {
   "cell_type": "code",
   "execution_count": 36,
   "metadata": {},
   "outputs": [
    {
     "data": {
      "text/plain": [
       "array([[0.65385675, 0.3461433 ],\n",
       "       [0.52963734, 0.47036266],\n",
       "       [0.52915615, 0.47084388],\n",
       "       [0.66240126, 0.3375987 ],\n",
       "       [0.8185778 , 0.18142216],\n",
       "       [0.9274181 , 0.07258185],\n",
       "       [0.4553172 , 0.5446828 ],\n",
       "       [0.30329177, 0.6967082 ],\n",
       "       [0.79726845, 0.20273153],\n",
       "       [0.32617217, 0.6738278 ]], dtype=float32)"
      ]
     },
     "execution_count": 36,
     "metadata": {},
     "output_type": "execute_result"
    }
   ],
   "source": [
    "prediction=model.predict(X_test)\n",
    "prediction[0:10]"
   ]
  },
  {
   "cell_type": "markdown",
   "metadata": {},
   "source": [
    "### 9. Observations\n",
    "1. Approximately 36.12% of customers are prone to churning\n",
    "2. Gender does not influence the rate of attrition. \n",
    "3. Customers who are not partners are more likely to churn leave than those who are partners.\n",
    "4. Customers with short-term contract like (Month-to-Month) are more likely to churn that those with long-tern contract.\n",
    "5. Clients without customer service support are 5 times more likely to leave the service than those that have tech support service.\n",
    "6. Senior citizens are 3 times less likely to churn the service than other citizens.\n"
   ]
  },
  {
   "cell_type": "markdown",
   "metadata": {},
   "source": [
    "### 10. Recommendations on Handling the customer churn problem\n",
    "1. Improve the quality of service.\n",
    "2. Strive to convert customers who are not partners to become partners.\n",
    "3. Focus on making your customers have a long-term contract.\n",
    "4. Provide support to all customers.\n",
    "5. Engage with the customers likely to churn. Look at their profile, identify characteristics and analyse past interactions \n",
    "with your product and then simply talk to them. Ask for feedback, communicate latest developments that might be from interest or educate them on new product features. Approach customers likely to churn, but make sure that you come up with relevant things that may fit their individual needs. It will create a feeling of being understood and bind them to you and your business."
   ]
  },
  {
   "cell_type": "markdown",
   "metadata": {},
   "source": [
    "### 11. Model Improvement\n",
    "To improve our model below are important tips;\n",
    "1. Collect more information / features that describe user behaviour.\n",
    "2. Perform hyperparameter tunning.\n",
    "3. Use advanced algorithms such as neural network."
   ]
  }
 ],
 "metadata": {
  "kernelspec": {
   "display_name": "Python 3",
   "language": "python",
   "name": "python3"
  },
  "language_info": {
   "codemirror_mode": {
    "name": "ipython",
    "version": 3
   },
   "file_extension": ".py",
   "mimetype": "text/x-python",
   "name": "python",
   "nbconvert_exporter": "python",
   "pygments_lexer": "ipython3",
   "version": "3.6.5"
  }
 },
 "nbformat": 4,
 "nbformat_minor": 2
}
