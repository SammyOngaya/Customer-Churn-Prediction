{
 "cells": [
  {
   "cell_type": "markdown",
   "metadata": {},
   "source": [
    "# <center>CUSTOMER CHURN PREDICTION</center>"
   ]
  },
  {
   "cell_type": "markdown",
   "metadata": {},
   "source": [
    "### Content\n",
    "<br>Each row represents a customer, each column contains customer’s attributes described on the column Metadata.\n",
    "\n",
    "<b>The data set includes information about:</b>\n",
    "\n",
    "Customers who left within the last month – the column is called Churn<br>\n",
    "Services that each customer has signed up for – phone, multiple lines, internet, online security, online backup, device protection, tech support, and streaming TV and movies<br>\n",
    "Customer account information – how long they’ve been a customer, contract, payment method, paperless billing, monthly charges, and total charges<br>\n",
    "Demographic info about customers – gender, age range, and if they have partners and dependents\n",
    "<hr><b>Inspiration</b><br>\n",
    "To explore this type of models and learn more about the subject."
   ]
  },
  {
   "cell_type": "markdown",
   "metadata": {},
   "source": [
    "#### 1. Import required libraries"
   ]
  },
  {
   "cell_type": "code",
   "execution_count": 1,
   "metadata": {},
   "outputs": [
    {
     "name": "stderr",
     "output_type": "stream",
     "text": [
      "C:\\Users\\songaya\\Anaconda3\\lib\\site-packages\\h5py\\__init__.py:36: FutureWarning: Conversion of the second argument of issubdtype from `float` to `np.floating` is deprecated. In future, it will be treated as `np.float64 == np.dtype(float).type`.\n",
      "  from ._conv import register_converters as _register_converters\n",
      "Using TensorFlow backend.\n"
     ]
    }
   ],
   "source": [
    "import numpy as np\n",
    "import pandas as pd\n",
    "import matplotlib.pyplot as plt\n",
    "\n",
    "from sklearn.model_selection import train_test_split\n",
    "from sklearn.preprocessing import MinMaxScaler\n",
    "\n",
    "from keras.utils import np_utils\n",
    "from keras.layers import Dense\n",
    "from keras.models import Sequential\n",
    "\n",
    "import warnings\n",
    "warnings.filterwarnings(\"ignore\")\n",
    "%matplotlib inline\n",
    "plt.style.use('ggplot')\n",
    "np.random.seed(1234)"
   ]
  },
  {
   "cell_type": "markdown",
   "metadata": {},
   "source": [
    "#### 2. Load our data"
   ]
  },
  {
   "cell_type": "code",
   "execution_count": 2,
   "metadata": {},
   "outputs": [],
   "source": [
    "data = pd.read_csv('customer_churn_prediction.csv')"
   ]
  },
  {
   "cell_type": "markdown",
   "metadata": {},
   "source": [
    "#### 3.Data exploration"
   ]
  },
  {
   "cell_type": "markdown",
   "metadata": {},
   "source": [
    "Peek first 5 records in our data"
   ]
  },
  {
   "cell_type": "code",
   "execution_count": 3,
   "metadata": {},
   "outputs": [
    {
     "data": {
      "text/html": [
       "<div>\n",
       "<style scoped>\n",
       "    .dataframe tbody tr th:only-of-type {\n",
       "        vertical-align: middle;\n",
       "    }\n",
       "\n",
       "    .dataframe tbody tr th {\n",
       "        vertical-align: top;\n",
       "    }\n",
       "\n",
       "    .dataframe thead th {\n",
       "        text-align: right;\n",
       "    }\n",
       "</style>\n",
       "<table border=\"1\" class=\"dataframe\">\n",
       "  <thead>\n",
       "    <tr style=\"text-align: right;\">\n",
       "      <th></th>\n",
       "      <th>customerID</th>\n",
       "      <th>gender</th>\n",
       "      <th>SeniorCitizen</th>\n",
       "      <th>Partner</th>\n",
       "      <th>Dependents</th>\n",
       "      <th>tenure</th>\n",
       "      <th>PhoneService</th>\n",
       "      <th>MultipleLines</th>\n",
       "      <th>InternetService</th>\n",
       "      <th>OnlineSecurity</th>\n",
       "      <th>...</th>\n",
       "      <th>DeviceProtection</th>\n",
       "      <th>TechSupport</th>\n",
       "      <th>StreamingTV</th>\n",
       "      <th>StreamingMovies</th>\n",
       "      <th>Contract</th>\n",
       "      <th>PaperlessBilling</th>\n",
       "      <th>PaymentMethod</th>\n",
       "      <th>MonthlyCharges</th>\n",
       "      <th>TotalCharges</th>\n",
       "      <th>Churn</th>\n",
       "    </tr>\n",
       "  </thead>\n",
       "  <tbody>\n",
       "    <tr>\n",
       "      <th>0</th>\n",
       "      <td>7590-VHVEG</td>\n",
       "      <td>Female</td>\n",
       "      <td>0</td>\n",
       "      <td>Yes</td>\n",
       "      <td>No</td>\n",
       "      <td>1</td>\n",
       "      <td>No</td>\n",
       "      <td>No phone service</td>\n",
       "      <td>DSL</td>\n",
       "      <td>No</td>\n",
       "      <td>...</td>\n",
       "      <td>No</td>\n",
       "      <td>No</td>\n",
       "      <td>No</td>\n",
       "      <td>No</td>\n",
       "      <td>Month-to-month</td>\n",
       "      <td>Yes</td>\n",
       "      <td>Electronic check</td>\n",
       "      <td>29.85</td>\n",
       "      <td>29.85</td>\n",
       "      <td>No</td>\n",
       "    </tr>\n",
       "    <tr>\n",
       "      <th>1</th>\n",
       "      <td>5575-GNVDE</td>\n",
       "      <td>Male</td>\n",
       "      <td>0</td>\n",
       "      <td>No</td>\n",
       "      <td>No</td>\n",
       "      <td>34</td>\n",
       "      <td>Yes</td>\n",
       "      <td>No</td>\n",
       "      <td>DSL</td>\n",
       "      <td>Yes</td>\n",
       "      <td>...</td>\n",
       "      <td>Yes</td>\n",
       "      <td>No</td>\n",
       "      <td>No</td>\n",
       "      <td>No</td>\n",
       "      <td>One year</td>\n",
       "      <td>No</td>\n",
       "      <td>Mailed check</td>\n",
       "      <td>56.95</td>\n",
       "      <td>1889.5</td>\n",
       "      <td>No</td>\n",
       "    </tr>\n",
       "    <tr>\n",
       "      <th>2</th>\n",
       "      <td>3668-QPYBK</td>\n",
       "      <td>Male</td>\n",
       "      <td>0</td>\n",
       "      <td>No</td>\n",
       "      <td>No</td>\n",
       "      <td>2</td>\n",
       "      <td>Yes</td>\n",
       "      <td>No</td>\n",
       "      <td>DSL</td>\n",
       "      <td>Yes</td>\n",
       "      <td>...</td>\n",
       "      <td>No</td>\n",
       "      <td>No</td>\n",
       "      <td>No</td>\n",
       "      <td>No</td>\n",
       "      <td>Month-to-month</td>\n",
       "      <td>Yes</td>\n",
       "      <td>Mailed check</td>\n",
       "      <td>53.85</td>\n",
       "      <td>108.15</td>\n",
       "      <td>Yes</td>\n",
       "    </tr>\n",
       "    <tr>\n",
       "      <th>3</th>\n",
       "      <td>7795-CFOCW</td>\n",
       "      <td>Male</td>\n",
       "      <td>0</td>\n",
       "      <td>No</td>\n",
       "      <td>No</td>\n",
       "      <td>45</td>\n",
       "      <td>No</td>\n",
       "      <td>No phone service</td>\n",
       "      <td>DSL</td>\n",
       "      <td>Yes</td>\n",
       "      <td>...</td>\n",
       "      <td>Yes</td>\n",
       "      <td>Yes</td>\n",
       "      <td>No</td>\n",
       "      <td>No</td>\n",
       "      <td>One year</td>\n",
       "      <td>No</td>\n",
       "      <td>Bank transfer (automatic)</td>\n",
       "      <td>42.30</td>\n",
       "      <td>1840.75</td>\n",
       "      <td>No</td>\n",
       "    </tr>\n",
       "    <tr>\n",
       "      <th>4</th>\n",
       "      <td>9237-HQITU</td>\n",
       "      <td>Female</td>\n",
       "      <td>0</td>\n",
       "      <td>No</td>\n",
       "      <td>No</td>\n",
       "      <td>2</td>\n",
       "      <td>Yes</td>\n",
       "      <td>No</td>\n",
       "      <td>Fiber optic</td>\n",
       "      <td>No</td>\n",
       "      <td>...</td>\n",
       "      <td>No</td>\n",
       "      <td>No</td>\n",
       "      <td>No</td>\n",
       "      <td>No</td>\n",
       "      <td>Month-to-month</td>\n",
       "      <td>Yes</td>\n",
       "      <td>Electronic check</td>\n",
       "      <td>70.70</td>\n",
       "      <td>151.65</td>\n",
       "      <td>Yes</td>\n",
       "    </tr>\n",
       "  </tbody>\n",
       "</table>\n",
       "<p>5 rows × 21 columns</p>\n",
       "</div>"
      ],
      "text/plain": [
       "   customerID  gender  SeniorCitizen Partner Dependents  tenure PhoneService  \\\n",
       "0  7590-VHVEG  Female              0     Yes         No       1           No   \n",
       "1  5575-GNVDE    Male              0      No         No      34          Yes   \n",
       "2  3668-QPYBK    Male              0      No         No       2          Yes   \n",
       "3  7795-CFOCW    Male              0      No         No      45           No   \n",
       "4  9237-HQITU  Female              0      No         No       2          Yes   \n",
       "\n",
       "      MultipleLines InternetService OnlineSecurity  ...  DeviceProtection  \\\n",
       "0  No phone service             DSL             No  ...                No   \n",
       "1                No             DSL            Yes  ...               Yes   \n",
       "2                No             DSL            Yes  ...                No   \n",
       "3  No phone service             DSL            Yes  ...               Yes   \n",
       "4                No     Fiber optic             No  ...                No   \n",
       "\n",
       "  TechSupport StreamingTV StreamingMovies        Contract PaperlessBilling  \\\n",
       "0          No          No              No  Month-to-month              Yes   \n",
       "1          No          No              No        One year               No   \n",
       "2          No          No              No  Month-to-month              Yes   \n",
       "3         Yes          No              No        One year               No   \n",
       "4          No          No              No  Month-to-month              Yes   \n",
       "\n",
       "               PaymentMethod MonthlyCharges  TotalCharges Churn  \n",
       "0           Electronic check          29.85         29.85    No  \n",
       "1               Mailed check          56.95        1889.5    No  \n",
       "2               Mailed check          53.85        108.15   Yes  \n",
       "3  Bank transfer (automatic)          42.30       1840.75    No  \n",
       "4           Electronic check          70.70        151.65   Yes  \n",
       "\n",
       "[5 rows x 21 columns]"
      ]
     },
     "execution_count": 3,
     "metadata": {},
     "output_type": "execute_result"
    }
   ],
   "source": [
    "data.head()"
   ]
  },
  {
   "cell_type": "markdown",
   "metadata": {},
   "source": [
    "Get number of records and feature"
   ]
  },
  {
   "cell_type": "code",
   "execution_count": 4,
   "metadata": {},
   "outputs": [
    {
     "name": "stdout",
     "output_type": "stream",
     "text": [
      "We have  7043  records and  21  features \n"
     ]
    }
   ],
   "source": [
    "print(\"We have \",data.shape[0],\" records and \",data.shape[1],\" features \")"
   ]
  },
  {
   "cell_type": "markdown",
   "metadata": {},
   "source": [
    "Group by Churn"
   ]
  },
  {
   "cell_type": "code",
   "execution_count": 5,
   "metadata": {},
   "outputs": [
    {
     "data": {
      "text/plain": [
       "Churn\n",
       "No     5174\n",
       "Yes    1869\n",
       "Name: Churn, dtype: int64"
      ]
     },
     "execution_count": 5,
     "metadata": {},
     "output_type": "execute_result"
    }
   ],
   "source": [
    "data.groupby(['Churn'])['Churn'].count()"
   ]
  },
  {
   "cell_type": "code",
   "execution_count": 6,
   "metadata": {},
   "outputs": [
    {
     "data": {
      "text/plain": [
       "26.536987079369588"
      ]
     },
     "execution_count": 6,
     "metadata": {},
     "output_type": "execute_result"
    }
   ],
   "source": [
    "# pct of attrition // (Yes/Total)*100 \n",
    "len(data[data['Churn']=='Yes'])/data.shape[0] * 100"
   ]
  },
  {
   "cell_type": "code",
   "execution_count": 7,
   "metadata": {},
   "outputs": [
    {
     "data": {
      "text/plain": [
       "Text(0.5,1,'Attrition')"
      ]
     },
     "execution_count": 7,
     "metadata": {},
     "output_type": "execute_result"
    },
    {
     "data": {
      "image/png": "[encoded data removed]",
      "text/plain": [
       "<Figure size 792x504 with 1 Axes>"
      ]
     },
     "metadata": {},
     "output_type": "display_data"
    }
   ],
   "source": [
    "data.groupby(['Churn'])['Churn'].count().plot.bar(width=1,figsize=(11, 7)).set_title(\"Attrition\")"
   ]
  },
  {
   "cell_type": "markdown",
   "metadata": {},
   "source": [
    "Group by Gender"
   ]
  },
  {
   "cell_type": "code",
   "execution_count": 8,
   "metadata": {},
   "outputs": [
    {
     "data": {
      "text/plain": [
       "gender  Churn\n",
       "Female  No       2549\n",
       "        Yes       939\n",
       "Male    No       2625\n",
       "        Yes       930\n",
       "Name: Churn, dtype: int64"
      ]
     },
     "execution_count": 8,
     "metadata": {},
     "output_type": "execute_result"
    }
   ],
   "source": [
    "data.groupby(['gender','Churn'])['Churn'].count()"
   ]
  },
  {
   "cell_type": "code",
   "execution_count": 9,
   "metadata": {},
   "outputs": [
    {
     "data": {
      "text/plain": [
       "Text(0.5,1,'Attrition by Gender')"
      ]
     },
     "execution_count": 9,
     "metadata": {},
     "output_type": "execute_result"
    },
    {
     "data": {
      "image/png": "[encoded data removed]",
      "text/plain": [
       "<Figure size 792x504 with 1 Axes>"
      ]
     },
     "metadata": {},
     "output_type": "display_data"
    }
   ],
   "source": [
    "data.groupby(['gender','Churn'])['Churn'].count().unstack().plot.bar(width=1,figsize=(11, 7)).set_title(\"Attrition by Gender\")"
   ]
  },
  {
   "cell_type": "markdown",
   "metadata": {},
   "source": [
    "Group by Partner"
   ]
  },
  {
   "cell_type": "code",
   "execution_count": 10,
   "metadata": {},
   "outputs": [
    {
     "data": {
      "text/plain": [
       "Partner  Churn\n",
       "No       No       2441\n",
       "         Yes      1200\n",
       "Yes      No       2733\n",
       "         Yes       669\n",
       "Name: Churn, dtype: int64"
      ]
     },
     "execution_count": 10,
     "metadata": {},
     "output_type": "execute_result"
    }
   ],
   "source": [
    "data.groupby(['Partner','Churn'])['Churn'].count()"
   ]
  },
  {
   "cell_type": "code",
   "execution_count": 11,
   "metadata": {},
   "outputs": [
    {
     "data": {
      "text/plain": [
       "Text(0.5,1,'Attrition by Partner')"
      ]
     },
     "execution_count": 11,
     "metadata": {},
     "output_type": "execute_result"
    },
    {
     "data": {
      "image/png": "[encoded data removed]",
      "text/plain": [
       "<Figure size 792x504 with 1 Axes>"
      ]
     },
     "metadata": {},
     "output_type": "display_data"
    }
   ],
   "source": [
    "data.groupby(['Partner','Churn'])['Churn'].count().unstack().plot.barh(width=1.25,figsize=(11, 7)).set_title(\"Attrition by Partner\")"
   ]
  },
  {
   "cell_type": "markdown",
   "metadata": {},
   "source": [
    "Group by Contract"
   ]
  },
  {
   "cell_type": "code",
   "execution_count": 12,
   "metadata": {
    "scrolled": false
   },
   "outputs": [
    {
     "data": {
      "text/plain": [
       "Contract        Churn\n",
       "Month-to-month  No       2220\n",
       "                Yes      1655\n",
       "One year        No       1307\n",
       "                Yes       166\n",
       "Two year        No       1647\n",
       "                Yes        48\n",
       "Name: Churn, dtype: int64"
      ]
     },
     "execution_count": 12,
     "metadata": {},
     "output_type": "execute_result"
    }
   ],
   "source": [
    "data.groupby(['Contract','Churn'])['Churn'].count()"
   ]
  },
  {
   "cell_type": "code",
   "execution_count": 13,
   "metadata": {
    "scrolled": false
   },
   "outputs": [
    {
     "data": {
      "text/plain": [
       "Text(0.5,1,'Attrition by Contract Type')"
      ]
     },
     "execution_count": 13,
     "metadata": {},
     "output_type": "execute_result"
    },
    {
     "data": {
      "image/png": "[encoded data removed]",
      "text/plain": [
       "<Figure size 842.4x648 with 1 Axes>"
      ]
     },
     "metadata": {},
     "output_type": "display_data"
    }
   ],
   "source": [
    "data.groupby(['Contract','Churn'])['Churn'].count().unstack().plot.barh(width=1,figsize=(11.7, 9)).set_title(\"Attrition by Contract Type\")"
   ]
  },
  {
   "cell_type": "markdown",
   "metadata": {},
   "source": [
    "Group by PhoneService"
   ]
  },
  {
   "cell_type": "code",
   "execution_count": 14,
   "metadata": {
    "scrolled": false
   },
   "outputs": [
    {
     "data": {
      "text/plain": [
       "PhoneService  Churn\n",
       "No            No        512\n",
       "              Yes       170\n",
       "Yes           No       4662\n",
       "              Yes      1699\n",
       "Name: Churn, dtype: int64"
      ]
     },
     "execution_count": 14,
     "metadata": {},
     "output_type": "execute_result"
    }
   ],
   "source": [
    "data.groupby(['PhoneService','Churn'])['Churn'].count()"
   ]
  },
  {
   "cell_type": "code",
   "execution_count": 15,
   "metadata": {},
   "outputs": [
    {
     "data": {
      "text/plain": [
       "Text(0.5,1,'Attrition by Phone Service')"
      ]
     },
     "execution_count": 15,
     "metadata": {},
     "output_type": "execute_result"
    },
    {
     "data": {
      "image/png": "[encoded data removed]",
      "text/plain": [
       "<Figure size 792x576 with 1 Axes>"
      ]
     },
     "metadata": {},
     "output_type": "display_data"
    }
   ],
   "source": [
    "data.groupby(['PhoneService','Churn'])['Churn'].count().unstack().plot.barh(width=2,figsize=(11, 8)).set_title(\"Attrition by Phone Service\")"
   ]
  },
  {
   "cell_type": "markdown",
   "metadata": {},
   "source": [
    "Group by TechSupport"
   ]
  },
  {
   "cell_type": "code",
   "execution_count": 16,
   "metadata": {},
   "outputs": [
    {
     "data": {
      "text/plain": [
       "TechSupport          Churn\n",
       "No                   No       2027\n",
       "                     Yes      1446\n",
       "No internet service  No       1413\n",
       "                     Yes       113\n",
       "Yes                  No       1734\n",
       "                     Yes       310\n",
       "Name: Churn, dtype: int64"
      ]
     },
     "execution_count": 16,
     "metadata": {},
     "output_type": "execute_result"
    }
   ],
   "source": [
    "data.groupby(['TechSupport','Churn'])['Churn'].count()"
   ]
  },
  {
   "cell_type": "code",
   "execution_count": 17,
   "metadata": {},
   "outputs": [
    {
     "data": {
      "text/plain": [
       "Text(0.5,1,'Attrition by Technical Support')"
      ]
     },
     "execution_count": 17,
     "metadata": {},
     "output_type": "execute_result"
    },
    {
     "data": {
      "image/png": "[encoded data removed]",
      "text/plain": [
       "<Figure size 792x504 with 1 Axes>"
      ]
     },
     "metadata": {},
     "output_type": "display_data"
    }
   ],
   "source": [
    "data.groupby(['TechSupport','Churn'])['Churn'].count().unstack().plot.bar(width=2,figsize=(11, 7)).set_title(\"Attrition by Technical Support\")"
   ]
  },
  {
   "cell_type": "markdown",
   "metadata": {},
   "source": [
    "Group by SeniorCitizen"
   ]
  },
  {
   "cell_type": "code",
   "execution_count": 18,
   "metadata": {},
   "outputs": [
    {
     "data": {
      "text/plain": [
       "SeniorCitizen  Churn\n",
       "0              No       4508\n",
       "               Yes      1393\n",
       "1              No        666\n",
       "               Yes       476\n",
       "Name: Churn, dtype: int64"
      ]
     },
     "execution_count": 18,
     "metadata": {},
     "output_type": "execute_result"
    }
   ],
   "source": [
    "data.groupby(['SeniorCitizen','Churn'])['Churn'].count()"
   ]
  },
  {
   "cell_type": "code",
   "execution_count": 19,
   "metadata": {},
   "outputs": [
    {
     "data": {
      "text/plain": [
       "Text(0.5,1,'Attrition by Citizenship')"
      ]
     },
     "execution_count": 19,
     "metadata": {},
     "output_type": "execute_result"
    },
    {
     "data": {
      "image/png": "[encoded data removed]",
      "text/plain": [
       "<Figure size 792x504 with 1 Axes>"
      ]
     },
     "metadata": {},
     "output_type": "display_data"
    }
   ],
   "source": [
    "data.groupby(['SeniorCitizen','Churn'])['Churn'].count().unstack().plot.bar(width=2,figsize=(11, 7)).set_title(\"Attrition by Citizenship\")"
   ]
  },
  {
   "cell_type": "markdown",
   "metadata": {},
   "source": [
    "#### 4. Data Preprocessing"
   ]
  },
  {
   "cell_type": "markdown",
   "metadata": {},
   "source": [
    "Dummy encode categorical features"
   ]
  },
  {
   "cell_type": "code",
   "execution_count": 20,
   "metadata": {},
   "outputs": [],
   "source": [
    "data=pd.get_dummies(data,columns=['gender','Partner','Dependents','PhoneService','MultipleLines','InternetService','OnlineSecurity','OnlineBackup','DeviceProtection', 'TechSupport', 'StreamingTV','StreamingMovies','Contract', 'PaperlessBilling', 'PaymentMethod'])"
   ]
  },
  {
   "cell_type": "code",
   "execution_count": 21,
   "metadata": {},
   "outputs": [
    {
     "data": {
      "text/html": [
       "<div>\n",
       "<style scoped>\n",
       "    .dataframe tbody tr th:only-of-type {\n",
       "        vertical-align: middle;\n",
       "    }\n",
       "\n",
       "    .dataframe tbody tr th {\n",
       "        vertical-align: top;\n",
       "    }\n",
       "\n",
       "    .dataframe thead th {\n",
       "        text-align: right;\n",
       "    }\n",
       "</style>\n",
       "<table border=\"1\" class=\"dataframe\">\n",
       "  <thead>\n",
       "    <tr style=\"text-align: right;\">\n",
       "      <th></th>\n",
       "      <th>customerID</th>\n",
       "      <th>SeniorCitizen</th>\n",
       "      <th>tenure</th>\n",
       "      <th>MonthlyCharges</th>\n",
       "      <th>TotalCharges</th>\n",
       "      <th>Churn</th>\n",
       "      <th>gender_Female</th>\n",
       "      <th>gender_Male</th>\n",
       "      <th>Partner_No</th>\n",
       "      <th>Partner_Yes</th>\n",
       "      <th>...</th>\n",
       "      <th>StreamingMovies_Yes</th>\n",
       "      <th>Contract_Month-to-month</th>\n",
       "      <th>Contract_One year</th>\n",
       "      <th>Contract_Two year</th>\n",
       "      <th>PaperlessBilling_No</th>\n",
       "      <th>PaperlessBilling_Yes</th>\n",
       "      <th>PaymentMethod_Bank transfer (automatic)</th>\n",
       "      <th>PaymentMethod_Credit card (automatic)</th>\n",
       "      <th>PaymentMethod_Electronic check</th>\n",
       "      <th>PaymentMethod_Mailed check</th>\n",
       "    </tr>\n",
       "  </thead>\n",
       "  <tbody>\n",
       "    <tr>\n",
       "      <th>0</th>\n",
       "      <td>7590-VHVEG</td>\n",
       "      <td>0</td>\n",
       "      <td>1</td>\n",
       "      <td>29.85</td>\n",
       "      <td>29.85</td>\n",
       "      <td>No</td>\n",
       "      <td>1</td>\n",
       "      <td>0</td>\n",
       "      <td>0</td>\n",
       "      <td>1</td>\n",
       "      <td>...</td>\n",
       "      <td>0</td>\n",
       "      <td>1</td>\n",
       "      <td>0</td>\n",
       "      <td>0</td>\n",
       "      <td>0</td>\n",
       "      <td>1</td>\n",
       "      <td>0</td>\n",
       "      <td>0</td>\n",
       "      <td>1</td>\n",
       "      <td>0</td>\n",
       "    </tr>\n",
       "    <tr>\n",
       "      <th>1</th>\n",
       "      <td>5575-GNVDE</td>\n",
       "      <td>0</td>\n",
       "      <td>34</td>\n",
       "      <td>56.95</td>\n",
       "      <td>1889.5</td>\n",
       "      <td>No</td>\n",
       "      <td>0</td>\n",
       "      <td>1</td>\n",
       "      <td>1</td>\n",
       "      <td>0</td>\n",
       "      <td>...</td>\n",
       "      <td>0</td>\n",
       "      <td>0</td>\n",
       "      <td>1</td>\n",
       "      <td>0</td>\n",
       "      <td>1</td>\n",
       "      <td>0</td>\n",
       "      <td>0</td>\n",
       "      <td>0</td>\n",
       "      <td>0</td>\n",
       "      <td>1</td>\n",
       "    </tr>\n",
       "    <tr>\n",
       "      <th>2</th>\n",
       "      <td>3668-QPYBK</td>\n",
       "      <td>0</td>\n",
       "      <td>2</td>\n",
       "      <td>53.85</td>\n",
       "      <td>108.15</td>\n",
       "      <td>Yes</td>\n",
       "      <td>0</td>\n",
       "      <td>1</td>\n",
       "      <td>1</td>\n",
       "      <td>0</td>\n",
       "      <td>...</td>\n",
       "      <td>0</td>\n",
       "      <td>1</td>\n",
       "      <td>0</td>\n",
       "      <td>0</td>\n",
       "      <td>0</td>\n",
       "      <td>1</td>\n",
       "      <td>0</td>\n",
       "      <td>0</td>\n",
       "      <td>0</td>\n",
       "      <td>1</td>\n",
       "    </tr>\n",
       "    <tr>\n",
       "      <th>3</th>\n",
       "      <td>7795-CFOCW</td>\n",
       "      <td>0</td>\n",
       "      <td>45</td>\n",
       "      <td>42.30</td>\n",
       "      <td>1840.75</td>\n",
       "      <td>No</td>\n",
       "      <td>0</td>\n",
       "      <td>1</td>\n",
       "      <td>1</td>\n",
       "      <td>0</td>\n",
       "      <td>...</td>\n",
       "      <td>0</td>\n",
       "      <td>0</td>\n",
       "      <td>1</td>\n",
       "      <td>0</td>\n",
       "      <td>1</td>\n",
       "      <td>0</td>\n",
       "      <td>1</td>\n",
       "      <td>0</td>\n",
       "      <td>0</td>\n",
       "      <td>0</td>\n",
       "    </tr>\n",
       "    <tr>\n",
       "      <th>4</th>\n",
       "      <td>9237-HQITU</td>\n",
       "      <td>0</td>\n",
       "      <td>2</td>\n",
       "      <td>70.70</td>\n",
       "      <td>151.65</td>\n",
       "      <td>Yes</td>\n",
       "      <td>1</td>\n",
       "      <td>0</td>\n",
       "      <td>1</td>\n",
       "      <td>0</td>\n",
       "      <td>...</td>\n",
       "      <td>0</td>\n",
       "      <td>1</td>\n",
       "      <td>0</td>\n",
       "      <td>0</td>\n",
       "      <td>0</td>\n",
       "      <td>1</td>\n",
       "      <td>0</td>\n",
       "      <td>0</td>\n",
       "      <td>1</td>\n",
       "      <td>0</td>\n",
       "    </tr>\n",
       "  </tbody>\n",
       "</table>\n",
       "<p>5 rows × 47 columns</p>\n",
       "</div>"
      ],
      "text/plain": [
       "   customerID  SeniorCitizen  tenure  MonthlyCharges TotalCharges Churn  \\\n",
       "0  7590-VHVEG              0       1           29.85        29.85    No   \n",
       "1  5575-GNVDE              0      34           56.95       1889.5    No   \n",
       "2  3668-QPYBK              0       2           53.85       108.15   Yes   \n",
       "3  7795-CFOCW              0      45           42.30      1840.75    No   \n",
       "4  9237-HQITU              0       2           70.70       151.65   Yes   \n",
       "\n",
       "   gender_Female  gender_Male  Partner_No  Partner_Yes  \\\n",
       "0              1            0           0            1   \n",
       "1              0            1           1            0   \n",
       "2              0            1           1            0   \n",
       "3              0            1           1            0   \n",
       "4              1            0           1            0   \n",
       "\n",
       "              ...              StreamingMovies_Yes  Contract_Month-to-month  \\\n",
       "0             ...                                0                        1   \n",
       "1             ...                                0                        0   \n",
       "2             ...                                0                        1   \n",
       "3             ...                                0                        0   \n",
       "4             ...                                0                        1   \n",
       "\n",
       "   Contract_One year  Contract_Two year  PaperlessBilling_No  \\\n",
       "0                  0                  0                    0   \n",
       "1                  1                  0                    1   \n",
       "2                  0                  0                    0   \n",
       "3                  1                  0                    1   \n",
       "4                  0                  0                    0   \n",
       "\n",
       "   PaperlessBilling_Yes  PaymentMethod_Bank transfer (automatic)  \\\n",
       "0                     1                                        0   \n",
       "1                     0                                        0   \n",
       "2                     1                                        0   \n",
       "3                     0                                        1   \n",
       "4                     1                                        0   \n",
       "\n",
       "   PaymentMethod_Credit card (automatic)  PaymentMethod_Electronic check  \\\n",
       "0                                      0                               1   \n",
       "1                                      0                               0   \n",
       "2                                      0                               0   \n",
       "3                                      0                               0   \n",
       "4                                      0                               1   \n",
       "\n",
       "   PaymentMethod_Mailed check  \n",
       "0                           0  \n",
       "1                           1  \n",
       "2                           1  \n",
       "3                           0  \n",
       "4                           0  \n",
       "\n",
       "[5 rows x 47 columns]"
      ]
     },
     "execution_count": 21,
     "metadata": {},
     "output_type": "execute_result"
    }
   ],
   "source": [
    "data.head()"
   ]
  },
  {
   "cell_type": "markdown",
   "metadata": {},
   "source": [
    "View columns"
   ]
  },
  {
   "cell_type": "code",
   "execution_count": 22,
   "metadata": {},
   "outputs": [
    {
     "data": {
      "text/plain": [
       "Index(['customerID', 'SeniorCitizen', 'tenure', 'MonthlyCharges',\n",
       "       'TotalCharges', 'Churn', 'gender_Female', 'gender_Male', 'Partner_No',\n",
       "       'Partner_Yes', 'Dependents_No', 'Dependents_Yes', 'PhoneService_No',\n",
       "       'PhoneService_Yes', 'MultipleLines_No',\n",
       "       'MultipleLines_No phone service', 'MultipleLines_Yes',\n",
       "       'InternetService_DSL', 'InternetService_Fiber optic',\n",
       "       'InternetService_No', 'OnlineSecurity_No',\n",
       "       'OnlineSecurity_No internet service', 'OnlineSecurity_Yes',\n",
       "       'OnlineBackup_No', 'OnlineBackup_No internet service',\n",
       "       'OnlineBackup_Yes', 'DeviceProtection_No',\n",
       "       'DeviceProtection_No internet service', 'DeviceProtection_Yes',\n",
       "       'TechSupport_No', 'TechSupport_No internet service', 'TechSupport_Yes',\n",
       "       'StreamingTV_No', 'StreamingTV_No internet service', 'StreamingTV_Yes',\n",
       "       'StreamingMovies_No', 'StreamingMovies_No internet service',\n",
       "       'StreamingMovies_Yes', 'Contract_Month-to-month', 'Contract_One year',\n",
       "       'Contract_Two year', 'PaperlessBilling_No', 'PaperlessBilling_Yes',\n",
       "       'PaymentMethod_Bank transfer (automatic)',\n",
       "       'PaymentMethod_Credit card (automatic)',\n",
       "       'PaymentMethod_Electronic check', 'PaymentMethod_Mailed check'],\n",
       "      dtype='object')"
      ]
     },
     "execution_count": 22,
     "metadata": {},
     "output_type": "execute_result"
    }
   ],
   "source": [
    "data.columns"
   ]
  },
  {
   "cell_type": "markdown",
   "metadata": {},
   "source": [
    "Check data types"
   ]
  },
  {
   "cell_type": "code",
   "execution_count": 23,
   "metadata": {},
   "outputs": [
    {
     "data": {
      "text/plain": [
       "customerID                                  object\n",
       "SeniorCitizen                                int64\n",
       "tenure                                       int64\n",
       "MonthlyCharges                             float64\n",
       "TotalCharges                                object\n",
       "Churn                                       object\n",
       "gender_Female                                uint8\n",
       "gender_Male                                  uint8\n",
       "Partner_No                                   uint8\n",
       "Partner_Yes                                  uint8\n",
       "Dependents_No                                uint8\n",
       "Dependents_Yes                               uint8\n",
       "PhoneService_No                              uint8\n",
       "PhoneService_Yes                             uint8\n",
       "MultipleLines_No                             uint8\n",
       "MultipleLines_No phone service               uint8\n",
       "MultipleLines_Yes                            uint8\n",
       "InternetService_DSL                          uint8\n",
       "InternetService_Fiber optic                  uint8\n",
       "InternetService_No                           uint8\n",
       "OnlineSecurity_No                            uint8\n",
       "OnlineSecurity_No internet service           uint8\n",
       "OnlineSecurity_Yes                           uint8\n",
       "OnlineBackup_No                              uint8\n",
       "OnlineBackup_No internet service             uint8\n",
       "OnlineBackup_Yes                             uint8\n",
       "DeviceProtection_No                          uint8\n",
       "DeviceProtection_No internet service         uint8\n",
       "DeviceProtection_Yes                         uint8\n",
       "TechSupport_No                               uint8\n",
       "TechSupport_No internet service              uint8\n",
       "TechSupport_Yes                              uint8\n",
       "StreamingTV_No                               uint8\n",
       "StreamingTV_No internet service              uint8\n",
       "StreamingTV_Yes                              uint8\n",
       "StreamingMovies_No                           uint8\n",
       "StreamingMovies_No internet service          uint8\n",
       "StreamingMovies_Yes                          uint8\n",
       "Contract_Month-to-month                      uint8\n",
       "Contract_One year                            uint8\n",
       "Contract_Two year                            uint8\n",
       "PaperlessBilling_No                          uint8\n",
       "PaperlessBilling_Yes                         uint8\n",
       "PaymentMethod_Bank transfer (automatic)      uint8\n",
       "PaymentMethod_Credit card (automatic)        uint8\n",
       "PaymentMethod_Electronic check               uint8\n",
       "PaymentMethod_Mailed check                   uint8\n",
       "dtype: object"
      ]
     },
     "execution_count": 23,
     "metadata": {},
     "output_type": "execute_result"
    }
   ],
   "source": [
    "data.dtypes"
   ]
  },
  {
   "cell_type": "markdown",
   "metadata": {},
   "source": [
    "Let's convert TotalCharges from object to numeric data type"
   ]
  },
  {
   "cell_type": "code",
   "execution_count": 24,
   "metadata": {},
   "outputs": [],
   "source": [
    "data['TotalCharges']=pd.to_numeric(data['TotalCharges'].astype(str), errors='coerce')"
   ]
  },
  {
   "cell_type": "markdown",
   "metadata": {},
   "source": [
    "Check for Missing data features"
   ]
  },
  {
   "cell_type": "code",
   "execution_count": 25,
   "metadata": {},
   "outputs": [
    {
     "data": {
      "text/plain": [
       "customerID                                  0\n",
       "SeniorCitizen                               0\n",
       "tenure                                      0\n",
       "MonthlyCharges                              0\n",
       "TotalCharges                               11\n",
       "Churn                                       0\n",
       "gender_Female                               0\n",
       "gender_Male                                 0\n",
       "Partner_No                                  0\n",
       "Partner_Yes                                 0\n",
       "Dependents_No                               0\n",
       "Dependents_Yes                              0\n",
       "PhoneService_No                             0\n",
       "PhoneService_Yes                            0\n",
       "MultipleLines_No                            0\n",
       "MultipleLines_No phone service              0\n",
       "MultipleLines_Yes                           0\n",
       "InternetService_DSL                         0\n",
       "InternetService_Fiber optic                 0\n",
       "InternetService_No                          0\n",
       "OnlineSecurity_No                           0\n",
       "OnlineSecurity_No internet service          0\n",
       "OnlineSecurity_Yes                          0\n",
       "OnlineBackup_No                             0\n",
       "OnlineBackup_No internet service            0\n",
       "OnlineBackup_Yes                            0\n",
       "DeviceProtection_No                         0\n",
       "DeviceProtection_No internet service        0\n",
       "DeviceProtection_Yes                        0\n",
       "TechSupport_No                              0\n",
       "TechSupport_No internet service             0\n",
       "TechSupport_Yes                             0\n",
       "StreamingTV_No                              0\n",
       "StreamingTV_No internet service             0\n",
       "StreamingTV_Yes                             0\n",
       "StreamingMovies_No                          0\n",
       "StreamingMovies_No internet service         0\n",
       "StreamingMovies_Yes                         0\n",
       "Contract_Month-to-month                     0\n",
       "Contract_One year                           0\n",
       "Contract_Two year                           0\n",
       "PaperlessBilling_No                         0\n",
       "PaperlessBilling_Yes                        0\n",
       "PaymentMethod_Bank transfer (automatic)     0\n",
       "PaymentMethod_Credit card (automatic)       0\n",
       "PaymentMethod_Electronic check              0\n",
       "PaymentMethod_Mailed check                  0\n",
       "dtype: int64"
      ]
     },
     "execution_count": 25,
     "metadata": {},
     "output_type": "execute_result"
    }
   ],
   "source": [
    "data.isna().sum()"
   ]
  },
  {
   "cell_type": "markdown",
   "metadata": {},
   "source": [
    "Fill missing value for TotalCharges feature with mean"
   ]
  },
  {
   "cell_type": "code",
   "execution_count": 26,
   "metadata": {},
   "outputs": [],
   "source": [
    "data['TotalCharges']=data['TotalCharges'].fillna(data['TotalCharges'].mean())"
   ]
  },
  {
   "cell_type": "markdown",
   "metadata": {},
   "source": [
    "Check missing value again to see the changes"
   ]
  },
  {
   "cell_type": "code",
   "execution_count": 27,
   "metadata": {},
   "outputs": [
    {
     "data": {
      "text/plain": [
       "customerID                                 0\n",
       "SeniorCitizen                              0\n",
       "tenure                                     0\n",
       "MonthlyCharges                             0\n",
       "TotalCharges                               0\n",
       "Churn                                      0\n",
       "gender_Female                              0\n",
       "gender_Male                                0\n",
       "Partner_No                                 0\n",
       "Partner_Yes                                0\n",
       "Dependents_No                              0\n",
       "Dependents_Yes                             0\n",
       "PhoneService_No                            0\n",
       "PhoneService_Yes                           0\n",
       "MultipleLines_No                           0\n",
       "MultipleLines_No phone service             0\n",
       "MultipleLines_Yes                          0\n",
       "InternetService_DSL                        0\n",
       "InternetService_Fiber optic                0\n",
       "InternetService_No                         0\n",
       "OnlineSecurity_No                          0\n",
       "OnlineSecurity_No internet service         0\n",
       "OnlineSecurity_Yes                         0\n",
       "OnlineBackup_No                            0\n",
       "OnlineBackup_No internet service           0\n",
       "OnlineBackup_Yes                           0\n",
       "DeviceProtection_No                        0\n",
       "DeviceProtection_No internet service       0\n",
       "DeviceProtection_Yes                       0\n",
       "TechSupport_No                             0\n",
       "TechSupport_No internet service            0\n",
       "TechSupport_Yes                            0\n",
       "StreamingTV_No                             0\n",
       "StreamingTV_No internet service            0\n",
       "StreamingTV_Yes                            0\n",
       "StreamingMovies_No                         0\n",
       "StreamingMovies_No internet service        0\n",
       "StreamingMovies_Yes                        0\n",
       "Contract_Month-to-month                    0\n",
       "Contract_One year                          0\n",
       "Contract_Two year                          0\n",
       "PaperlessBilling_No                        0\n",
       "PaperlessBilling_Yes                       0\n",
       "PaymentMethod_Bank transfer (automatic)    0\n",
       "PaymentMethod_Credit card (automatic)      0\n",
       "PaymentMethod_Electronic check             0\n",
       "PaymentMethod_Mailed check                 0\n",
       "dtype: int64"
      ]
     },
     "execution_count": 27,
     "metadata": {},
     "output_type": "execute_result"
    }
   ],
   "source": [
    "data.isna().sum()"
   ]
  },
  {
   "cell_type": "markdown",
   "metadata": {},
   "source": [
    "### 5. Get Features and target/label"
   ]
  },
  {
   "cell_type": "code",
   "execution_count": 28,
   "metadata": {},
   "outputs": [],
   "source": [
    "features=data[['SeniorCitizen', 'tenure', 'MonthlyCharges',\n",
    "       'TotalCharges', 'gender_Female', 'gender_Male', 'Partner_No',\n",
    "       'Partner_Yes', 'Dependents_No', 'Dependents_Yes', 'PhoneService_No',\n",
    "       'PhoneService_Yes', 'MultipleLines_No',\n",
    "       'MultipleLines_No phone service', 'MultipleLines_Yes',\n",
    "       'InternetService_DSL', 'InternetService_Fiber optic',\n",
    "       'InternetService_No', 'OnlineSecurity_No',\n",
    "       'OnlineSecurity_No internet service', 'OnlineSecurity_Yes',\n",
    "       'OnlineBackup_No', 'OnlineBackup_No internet service',\n",
    "       'OnlineBackup_Yes', 'DeviceProtection_No',\n",
    "       'DeviceProtection_No internet service', 'DeviceProtection_Yes',\n",
    "       'TechSupport_No', 'TechSupport_No internet service', 'TechSupport_Yes',\n",
    "       'StreamingTV_No', 'StreamingTV_No internet service', 'StreamingTV_Yes',\n",
    "       'StreamingMovies_No', 'StreamingMovies_No internet service',\n",
    "       'StreamingMovies_Yes', 'Contract_Month-to-month', 'Contract_One year',\n",
    "       'Contract_Two year', 'PaperlessBilling_No', 'PaperlessBilling_Yes',\n",
    "       'PaymentMethod_Bank transfer (automatic)',\n",
    "       'PaymentMethod_Credit card (automatic)',\n",
    "       'PaymentMethod_Electronic check', 'PaymentMethod_Mailed check']]\n",
    "\n",
    "target=data['Churn']"
   ]
  },
  {
   "cell_type": "code",
   "execution_count": null,
   "metadata": {},
   "outputs": [],
   "source": []
  },
  {
   "cell_type": "markdown",
   "metadata": {},
   "source": [
    "Scaling our features"
   ]
  },
  {
   "cell_type": "code",
   "execution_count": 29,
   "metadata": {},
   "outputs": [],
   "source": [
    "features=MinMaxScaler().fit_transform(features)\n",
    "target=np_utils.to_categorical(target.factorize()[0])"
   ]
  },
  {
   "cell_type": "markdown",
   "metadata": {},
   "source": [
    "#### 6. Splitting our data into training and testing set"
   ]
  },
  {
   "cell_type": "code",
   "execution_count": 30,
   "metadata": {},
   "outputs": [],
   "source": [
    "X_train, X_test, y_train, y_test=train_test_split(features,target, test_size=0.3,random_state=7)"
   ]
  },
  {
   "cell_type": "code",
   "execution_count": 31,
   "metadata": {},
   "outputs": [
    {
     "data": {
      "text/plain": [
       "((4930, 45), (2113, 45), (4930, 2), (2113, 2))"
      ]
     },
     "execution_count": 31,
     "metadata": {},
     "output_type": "execute_result"
    }
   ],
   "source": [
    "X_train.shape, X_test.shape, y_train.shape, y_test.shape"
   ]
  },
  {
   "cell_type": "markdown",
   "metadata": {},
   "source": [
    "#### 7. Create our Machine Learning Model"
   ]
  },
  {
   "cell_type": "code",
   "execution_count": 32,
   "metadata": {},
   "outputs": [],
   "source": [
    "model=Sequential()\n",
    "model.add(Dense(units=8,input_dim=X_train.shape[1], activation='relu'))\n",
    "model.add(Dense(units=4, activation='relu'))\n",
    "model.add(Dense(units=2, activation='relu'))\n",
    "model.add(Dense(units=len(data['Churn'].unique()), activation='softmax'))"
   ]
  },
  {
   "cell_type": "code",
   "execution_count": 33,
   "metadata": {},
   "outputs": [
    {
     "name": "stdout",
     "output_type": "stream",
     "text": [
      "_________________________________________________________________\n",
      "Layer (type)                 Output Shape              Param #   \n",
      "=================================================================\n",
      "dense_1 (Dense)              (None, 8)                 368       \n",
      "_________________________________________________________________\n",
      "dense_2 (Dense)              (None, 4)                 36        \n",
      "_________________________________________________________________\n",
      "dense_3 (Dense)              (None, 2)                 10        \n",
      "_________________________________________________________________\n",
      "dense_4 (Dense)              (None, 2)                 6         \n",
      "=================================================================\n",
      "Total params: 420\n",
      "Trainable params: 420\n",
      "Non-trainable params: 0\n",
      "_________________________________________________________________\n"
     ]
    }
   ],
   "source": [
    "# Compile model\n",
    "model.compile(loss='binary_crossentropy',optimizer='adam',metrics=['accuracy'])\n",
    "model.summary()"
   ]
  },
  {
   "cell_type": "code",
   "execution_count": 34,
   "metadata": {},
   "outputs": [
    {
     "name": "stdout",
     "output_type": "stream",
     "text": [
      "Train on 3451 samples, validate on 1479 samples\n",
      "Epoch 1/100\n",
      "3451/3451 [==============================] - 2s 556us/step - loss: 0.6911 - acc: 0.6627 - val_loss: 0.6711 - val_acc: 0.7336\n",
      "Epoch 2/100\n",
      "3451/3451 [==============================] - 0s 123us/step - loss: 0.6605 - acc: 0.7386 - val_loss: 0.6510 - val_acc: 0.7390\n",
      "Epoch 3/100\n",
      "3451/3451 [==============================] - 0s 127us/step - loss: 0.6422 - acc: 0.7409 - val_loss: 0.6343 - val_acc: 0.7390\n",
      "Epoch 4/100\n",
      "3451/3451 [==============================] - 0s 121us/step - loss: 0.6271 - acc: 0.7407 - val_loss: 0.6211 - val_acc: 0.7390\n",
      "Epoch 5/100\n",
      "3451/3451 [==============================] - 0s 107us/step - loss: 0.6149 - acc: 0.7404 - val_loss: 0.6102 - val_acc: 0.7397\n",
      "Epoch 6/100\n",
      "3451/3451 [==============================] - 0s 97us/step - loss: 0.6046 - acc: 0.7421 - val_loss: 0.6006 - val_acc: 0.7404\n",
      "Epoch 7/100\n",
      "3451/3451 [==============================] - 0s 82us/step - loss: 0.5949 - acc: 0.7438 - val_loss: 0.5849 - val_acc: 0.7498\n",
      "Epoch 8/100\n",
      "3451/3451 [==============================] - 0s 120us/step - loss: 0.5713 - acc: 0.7627 - val_loss: 0.5525 - val_acc: 0.7884\n",
      "Epoch 9/100\n",
      "3451/3451 [==============================] - 0s 104us/step - loss: 0.5450 - acc: 0.7867 - val_loss: 0.5340 - val_acc: 0.7938\n",
      "Epoch 10/100\n",
      "3451/3451 [==============================] - 0s 114us/step - loss: 0.5290 - acc: 0.7919 - val_loss: 0.5204 - val_acc: 0.7951\n",
      "Epoch 11/100\n",
      "3451/3451 [==============================] - 0s 97us/step - loss: 0.5154 - acc: 0.7995 - val_loss: 0.5094 - val_acc: 0.7978\n",
      "Epoch 12/100\n",
      "3451/3451 [==============================] - 0s 98us/step - loss: 0.5050 - acc: 0.8030 - val_loss: 0.5028 - val_acc: 0.7951\n",
      "Epoch 13/100\n",
      "3451/3451 [==============================] - 0s 121us/step - loss: 0.4964 - acc: 0.8030 - val_loss: 0.4941 - val_acc: 0.7958\n",
      "Epoch 14/100\n",
      "3451/3451 [==============================] - 0s 86us/step - loss: 0.4889 - acc: 0.8001 - val_loss: 0.4879 - val_acc: 0.8012\n",
      "Epoch 15/100\n",
      "3451/3451 [==============================] - 0s 103us/step - loss: 0.4822 - acc: 0.8030 - val_loss: 0.4813 - val_acc: 0.8005\n",
      "Epoch 16/100\n",
      "3451/3451 [==============================] - 0s 84us/step - loss: 0.4762 - acc: 0.8067 - val_loss: 0.4753 - val_acc: 0.7951\n",
      "Epoch 17/100\n",
      "3451/3451 [==============================] - 0s 86us/step - loss: 0.4706 - acc: 0.8047 - val_loss: 0.4711 - val_acc: 0.7978\n",
      "Epoch 18/100\n",
      "3451/3451 [==============================] - 0s 84us/step - loss: 0.4654 - acc: 0.8067 - val_loss: 0.4681 - val_acc: 0.8066\n",
      "Epoch 19/100\n",
      "3451/3451 [==============================] - 0s 92us/step - loss: 0.4617 - acc: 0.8070 - val_loss: 0.4639 - val_acc: 0.8019\n",
      "Epoch 20/100\n",
      "3451/3451 [==============================] - 0s 100us/step - loss: 0.4585 - acc: 0.8079 - val_loss: 0.4600 - val_acc: 0.7999\n",
      "Epoch 21/100\n",
      "3451/3451 [==============================] - 0s 118us/step - loss: 0.4549 - acc: 0.8067 - val_loss: 0.4579 - val_acc: 0.8039\n",
      "Epoch 22/100\n",
      "3451/3451 [==============================] - 0s 111us/step - loss: 0.4511 - acc: 0.8128 - val_loss: 0.4553 - val_acc: 0.8032\n",
      "Epoch 23/100\n",
      "3451/3451 [==============================] - 0s 86us/step - loss: 0.4498 - acc: 0.8096 - val_loss: 0.4541 - val_acc: 0.8053\n",
      "Epoch 24/100\n",
      "3451/3451 [==============================] - 0s 99us/step - loss: 0.4481 - acc: 0.8061 - val_loss: 0.4511 - val_acc: 0.8032\n",
      "Epoch 25/100\n",
      "3451/3451 [==============================] - 0s 82us/step - loss: 0.4434 - acc: 0.8125 - val_loss: 0.4489 - val_acc: 0.8059\n",
      "Epoch 26/100\n",
      "3451/3451 [==============================] - 0s 107us/step - loss: 0.4410 - acc: 0.8131 - val_loss: 0.4475 - val_acc: 0.7999\n",
      "Epoch 27/100\n",
      "3451/3451 [==============================] - 0s 100us/step - loss: 0.4399 - acc: 0.8105 - val_loss: 0.4453 - val_acc: 0.8012\n",
      "Epoch 28/100\n",
      "3451/3451 [==============================] - 0s 111us/step - loss: 0.4388 - acc: 0.8122 - val_loss: 0.4435 - val_acc: 0.8039\n",
      "Epoch 29/100\n",
      "3451/3451 [==============================] - 0s 109us/step - loss: 0.4364 - acc: 0.8102 - val_loss: 0.4450 - val_acc: 0.8046\n",
      "Epoch 30/100\n",
      "3451/3451 [==============================] - 0s 78us/step - loss: 0.4350 - acc: 0.8076 - val_loss: 0.4431 - val_acc: 0.8080\n",
      "Epoch 31/100\n",
      "3451/3451 [==============================] - 0s 75us/step - loss: 0.4337 - acc: 0.8134 - val_loss: 0.4397 - val_acc: 0.8032\n",
      "Epoch 32/100\n",
      "3451/3451 [==============================] - 0s 71us/step - loss: 0.4317 - acc: 0.8108 - val_loss: 0.4403 - val_acc: 0.8012\n",
      "Epoch 33/100\n",
      "3451/3451 [==============================] - 0s 82us/step - loss: 0.4308 - acc: 0.8116 - val_loss: 0.4382 - val_acc: 0.8046\n",
      "Epoch 34/100\n",
      "3451/3451 [==============================] - 0s 84us/step - loss: 0.4297 - acc: 0.8116 - val_loss: 0.4379 - val_acc: 0.8032\n",
      "Epoch 35/100\n",
      "3451/3451 [==============================] - 0s 86us/step - loss: 0.4285 - acc: 0.8093 - val_loss: 0.4363 - val_acc: 0.8053\n",
      "Epoch 36/100\n",
      "3451/3451 [==============================] - 0s 83us/step - loss: 0.4273 - acc: 0.8148 - val_loss: 0.4375 - val_acc: 0.8059\n",
      "Epoch 37/100\n",
      "3451/3451 [==============================] - 0s 85us/step - loss: 0.4267 - acc: 0.8102 - val_loss: 0.4356 - val_acc: 0.8039\n",
      "Epoch 38/100\n",
      "3451/3451 [==============================] - 0s 85us/step - loss: 0.4252 - acc: 0.8128 - val_loss: 0.4353 - val_acc: 0.7978\n",
      "Epoch 39/100\n",
      "3451/3451 [==============================] - 0s 87us/step - loss: 0.4245 - acc: 0.8122 - val_loss: 0.4351 - val_acc: 0.7999\n",
      "Epoch 40/100\n",
      "3451/3451 [==============================] - 0s 93us/step - loss: 0.4242 - acc: 0.8145 - val_loss: 0.4358 - val_acc: 0.8046\n",
      "Epoch 41/100\n",
      "3451/3451 [==============================] - 0s 83us/step - loss: 0.4221 - acc: 0.8163 - val_loss: 0.4340 - val_acc: 0.8026\n",
      "Epoch 42/100\n",
      "3451/3451 [==============================] - 0s 86us/step - loss: 0.4216 - acc: 0.8137 - val_loss: 0.4348 - val_acc: 0.7992\n",
      "Epoch 43/100\n",
      "3451/3451 [==============================] - 0s 104us/step - loss: 0.4205 - acc: 0.8154 - val_loss: 0.4342 - val_acc: 0.8005\n",
      "Epoch 44/100\n",
      "3451/3451 [==============================] - 0s 111us/step - loss: 0.4199 - acc: 0.8145 - val_loss: 0.4348 - val_acc: 0.7999\n",
      "Epoch 45/100\n",
      "3451/3451 [==============================] - 0s 84us/step - loss: 0.4197 - acc: 0.8128 - val_loss: 0.4333 - val_acc: 0.7992\n",
      "Epoch 46/100\n",
      "3451/3451 [==============================] - 0s 83us/step - loss: 0.4183 - acc: 0.8140 - val_loss: 0.4341 - val_acc: 0.7985\n",
      "Epoch 47/100\n",
      "3451/3451 [==============================] - 0s 106us/step - loss: 0.4177 - acc: 0.8116 - val_loss: 0.4339 - val_acc: 0.8026\n",
      "Epoch 48/100\n",
      "3451/3451 [==============================] - 0s 103us/step - loss: 0.4178 - acc: 0.8137 - val_loss: 0.4325 - val_acc: 0.8012\n",
      "Epoch 49/100\n",
      "3451/3451 [==============================] - 0s 95us/step - loss: 0.4175 - acc: 0.8145 - val_loss: 0.4299 - val_acc: 0.8012\n",
      "Epoch 50/100\n",
      "3451/3451 [==============================] - 0s 107us/step - loss: 0.4163 - acc: 0.8163 - val_loss: 0.4351 - val_acc: 0.7985\n",
      "Epoch 51/100\n",
      "3451/3451 [==============================] - 0s 86us/step - loss: 0.4184 - acc: 0.8116 - val_loss: 0.4318 - val_acc: 0.7985\n",
      "Epoch 52/100\n",
      "3451/3451 [==============================] - 0s 70us/step - loss: 0.4150 - acc: 0.8140 - val_loss: 0.4296 - val_acc: 0.7985\n",
      "Epoch 53/100\n",
      "3451/3451 [==============================] - 0s 72us/step - loss: 0.4148 - acc: 0.8137 - val_loss: 0.4301 - val_acc: 0.7992\n",
      "Epoch 54/100\n",
      "3451/3451 [==============================] - 0s 70us/step - loss: 0.4141 - acc: 0.8172 - val_loss: 0.4296 - val_acc: 0.7985\n",
      "Epoch 55/100\n",
      "3451/3451 [==============================] - 0s 72us/step - loss: 0.4130 - acc: 0.8157 - val_loss: 0.4302 - val_acc: 0.7999\n",
      "Epoch 56/100\n",
      "3451/3451 [==============================] - 0s 85us/step - loss: 0.4128 - acc: 0.8160 - val_loss: 0.4303 - val_acc: 0.7965\n",
      "Epoch 57/100\n",
      "3451/3451 [==============================] - 0s 84us/step - loss: 0.4118 - acc: 0.8157 - val_loss: 0.4317 - val_acc: 0.7992\n",
      "Epoch 58/100\n",
      "3451/3451 [==============================] - 0s 86us/step - loss: 0.4117 - acc: 0.8143 - val_loss: 0.4301 - val_acc: 0.8026\n",
      "Epoch 59/100\n",
      "3451/3451 [==============================] - 0s 94us/step - loss: 0.4112 - acc: 0.8183 - val_loss: 0.4303 - val_acc: 0.7951\n",
      "Epoch 60/100\n"
     ]
    },
    {
     "name": "stdout",
     "output_type": "stream",
     "text": [
      "3451/3451 [==============================] - 0s 100us/step - loss: 0.4096 - acc: 0.8169 - val_loss: 0.4281 - val_acc: 0.7958\n",
      "Epoch 61/100\n",
      "3451/3451 [==============================] - 0s 107us/step - loss: 0.4094 - acc: 0.8157 - val_loss: 0.4291 - val_acc: 0.7972\n",
      "Epoch 62/100\n",
      "3451/3451 [==============================] - 0s 85us/step - loss: 0.4091 - acc: 0.8183 - val_loss: 0.4306 - val_acc: 0.7999\n",
      "Epoch 63/100\n",
      "3451/3451 [==============================] - 0s 108us/step - loss: 0.4088 - acc: 0.8140 - val_loss: 0.4313 - val_acc: 0.7978\n",
      "Epoch 64/100\n",
      "3451/3451 [==============================] - 0s 83us/step - loss: 0.4082 - acc: 0.8166 - val_loss: 0.4280 - val_acc: 0.7999\n",
      "Epoch 65/100\n",
      "3451/3451 [==============================] - 0s 87us/step - loss: 0.4065 - acc: 0.8157 - val_loss: 0.4283 - val_acc: 0.7972\n",
      "Epoch 66/100\n",
      "3451/3451 [==============================] - 0s 109us/step - loss: 0.4055 - acc: 0.8154 - val_loss: 0.4311 - val_acc: 0.7985\n",
      "Epoch 67/100\n",
      "3451/3451 [==============================] - 0s 107us/step - loss: 0.4062 - acc: 0.8183 - val_loss: 0.4289 - val_acc: 0.8005\n",
      "Epoch 68/100\n",
      "3451/3451 [==============================] - 0s 113us/step - loss: 0.4048 - acc: 0.8206 - val_loss: 0.4296 - val_acc: 0.7931\n",
      "Epoch 69/100\n",
      "3451/3451 [==============================] - 0s 99us/step - loss: 0.4046 - acc: 0.8172 - val_loss: 0.4292 - val_acc: 0.7965\n",
      "Epoch 70/100\n",
      "3451/3451 [==============================] - 0s 86us/step - loss: 0.4036 - acc: 0.8160 - val_loss: 0.4304 - val_acc: 0.7958\n",
      "Epoch 71/100\n",
      "3451/3451 [==============================] - 0s 76us/step - loss: 0.4035 - acc: 0.8169 - val_loss: 0.4307 - val_acc: 0.7999\n",
      "Epoch 72/100\n",
      "3451/3451 [==============================] - 0s 80us/step - loss: 0.4036 - acc: 0.8177 - val_loss: 0.4288 - val_acc: 0.7931\n",
      "Epoch 73/100\n",
      "3451/3451 [==============================] - 0s 73us/step - loss: 0.4020 - acc: 0.8134 - val_loss: 0.4297 - val_acc: 0.7904\n",
      "Epoch 74/100\n",
      "3451/3451 [==============================] - 0s 78us/step - loss: 0.4015 - acc: 0.8174 - val_loss: 0.4321 - val_acc: 0.7958\n",
      "Epoch 75/100\n",
      "3451/3451 [==============================] - 0s 79us/step - loss: 0.4011 - acc: 0.8183 - val_loss: 0.4300 - val_acc: 0.7999\n",
      "Epoch 76/100\n",
      "3451/3451 [==============================] - 0s 77us/step - loss: 0.4012 - acc: 0.8183 - val_loss: 0.4303 - val_acc: 0.7978\n",
      "Epoch 77/100\n",
      "3451/3451 [==============================] - 0s 78us/step - loss: 0.4002 - acc: 0.8183 - val_loss: 0.4309 - val_acc: 0.7972\n",
      "Epoch 78/100\n",
      "3451/3451 [==============================] - 0s 80us/step - loss: 0.3997 - acc: 0.8160 - val_loss: 0.4310 - val_acc: 0.7931\n",
      "Epoch 79/100\n",
      "3451/3451 [==============================] - 0s 78us/step - loss: 0.3994 - acc: 0.8145 - val_loss: 0.4315 - val_acc: 0.7985\n",
      "Epoch 80/100\n",
      "3451/3451 [==============================] - 0s 86us/step - loss: 0.3996 - acc: 0.8143 - val_loss: 0.4301 - val_acc: 0.7972\n",
      "Epoch 81/100\n",
      "3451/3451 [==============================] - 0s 88us/step - loss: 0.3988 - acc: 0.8163 - val_loss: 0.4332 - val_acc: 0.7965\n",
      "Epoch 82/100\n",
      "3451/3451 [==============================] - 0s 88us/step - loss: 0.3985 - acc: 0.8180 - val_loss: 0.4289 - val_acc: 0.7958\n",
      "Epoch 83/100\n",
      "3451/3451 [==============================] - 0s 81us/step - loss: 0.3978 - acc: 0.8177 - val_loss: 0.4310 - val_acc: 0.7938\n",
      "Epoch 84/100\n",
      "3451/3451 [==============================] - 0s 78us/step - loss: 0.3973 - acc: 0.8201 - val_loss: 0.4307 - val_acc: 0.7965\n",
      "Epoch 85/100\n",
      "3451/3451 [==============================] - 0s 78us/step - loss: 0.3981 - acc: 0.8160 - val_loss: 0.4314 - val_acc: 0.7958\n",
      "Epoch 86/100\n",
      "3451/3451 [==============================] - 0s 76us/step - loss: 0.3973 - acc: 0.8186 - val_loss: 0.4365 - val_acc: 0.7904\n",
      "Epoch 87/100\n",
      "3451/3451 [==============================] - 0s 79us/step - loss: 0.3969 - acc: 0.8183 - val_loss: 0.4314 - val_acc: 0.7965\n",
      "Epoch 88/100\n",
      "3451/3451 [==============================] - 0s 78us/step - loss: 0.3970 - acc: 0.8183 - val_loss: 0.4319 - val_acc: 0.7972\n",
      "Epoch 89/100\n",
      "3451/3451 [==============================] - 0s 78us/step - loss: 0.3959 - acc: 0.8160 - val_loss: 0.4321 - val_acc: 0.7918\n",
      "Epoch 90/100\n",
      "3451/3451 [==============================] - 0s 81us/step - loss: 0.3973 - acc: 0.8166 - val_loss: 0.4313 - val_acc: 0.7965\n",
      "Epoch 91/100\n",
      "3451/3451 [==============================] - 0s 79us/step - loss: 0.3952 - acc: 0.8172 - val_loss: 0.4327 - val_acc: 0.7938\n",
      "Epoch 92/100\n",
      "3451/3451 [==============================] - 0s 78us/step - loss: 0.3949 - acc: 0.8154 - val_loss: 0.4334 - val_acc: 0.7890\n",
      "Epoch 93/100\n",
      "3451/3451 [==============================] - 0s 78us/step - loss: 0.3947 - acc: 0.8163 - val_loss: 0.4326 - val_acc: 0.7985\n",
      "Epoch 94/100\n",
      "3451/3451 [==============================] - 0s 77us/step - loss: 0.3944 - acc: 0.8148 - val_loss: 0.4325 - val_acc: 0.7958\n",
      "Epoch 95/100\n",
      "3451/3451 [==============================] - 0s 75us/step - loss: 0.3945 - acc: 0.8172 - val_loss: 0.4336 - val_acc: 0.7924\n",
      "Epoch 96/100\n",
      "3451/3451 [==============================] - 0s 77us/step - loss: 0.3936 - acc: 0.8186 - val_loss: 0.4340 - val_acc: 0.7945\n",
      "Epoch 97/100\n",
      "3451/3451 [==============================] - 0s 74us/step - loss: 0.3941 - acc: 0.8169 - val_loss: 0.4330 - val_acc: 0.7931\n",
      "Epoch 98/100\n",
      "3451/3451 [==============================] - 0s 77us/step - loss: 0.3928 - acc: 0.8192 - val_loss: 0.4346 - val_acc: 0.7938\n",
      "Epoch 99/100\n",
      "3451/3451 [==============================] - 0s 75us/step - loss: 0.3925 - acc: 0.8189 - val_loss: 0.4353 - val_acc: 0.7924\n",
      "Epoch 100/100\n",
      "3451/3451 [==============================] - 0s 83us/step - loss: 0.3921 - acc: 0.8198 - val_loss: 0.4358 - val_acc: 0.7938\n"
     ]
    }
   ],
   "source": [
    "# Fit model\n",
    "history=model.fit(X_train,y_train, batch_size=64, epochs=100,validation_split=0.3)"
   ]
  },
  {
   "cell_type": "markdown",
   "metadata": {},
   "source": [
    "#### 8. Evaluate our model"
   ]
  },
  {
   "cell_type": "code",
   "execution_count": 35,
   "metadata": {},
   "outputs": [
    {
     "name": "stdout",
     "output_type": "stream",
     "text": [
      "2113/2113 [==============================] - 0s 66us/step\n",
      "Accuracy :  0.7893989588263133\n"
     ]
    }
   ],
   "source": [
    "print(\"Accuracy : \",model.evaluate(X_test,y_test)[1])"
   ]
  },
  {
   "cell_type": "code",
   "execution_count": 36,
   "metadata": {},
   "outputs": [
    {
     "data": {
      "image/png": "[encoded data removed]",
      "text/plain": [
       "<Figure size 432x288 with 1 Axes>"
      ]
     },
     "metadata": {},
     "output_type": "display_data"
    }
   ],
   "source": [
    "plt.plot(history.history['loss'],color='green',label='training loss')\n",
    "plt.plot(history.history['val_loss'],color='orange',label='validation loss')\n",
    "plt.legend(loc='upper right')\n",
    "plt.show()"
   ]
  },
  {
   "cell_type": "code",
   "execution_count": 37,
   "metadata": {},
   "outputs": [
    {
     "data": {
      "text/plain": [
       "array([[0.875132  , 0.12486795],\n",
       "       [0.5448891 , 0.45511094],\n",
       "       [0.5140369 , 0.48596314],\n",
       "       [0.6085441 , 0.3914559 ],\n",
       "       [0.71490633, 0.28509364],\n",
       "       [0.82114863, 0.17885143],\n",
       "       [0.3704673 , 0.62953275],\n",
       "       [0.30529088, 0.69470906],\n",
       "       [0.8774372 , 0.12256291],\n",
       "       [0.5121008 , 0.48789915]], dtype=float32)"
      ]
     },
     "execution_count": 37,
     "metadata": {},
     "output_type": "execute_result"
    }
   ],
   "source": [
    "prediction=model.predict(X_test)\n",
    "prediction[0:10]"
   ]
  },
  {
   "cell_type": "markdown",
   "metadata": {},
   "source": [
    "### 9. Observations\n",
    "1. Approximately 36.12% of customers are prone to churning\n",
    "2. Gender does not influence the rate of attrition. \n",
    "3. Customers who are not partners are more likely to churn leave than those who are partners.\n",
    "4. Customers with short-term contract like (Month-to-Month) are more likely to churn that those with long-tern contract.\n",
    "5. Clients without customer service support are 5 times more likely to leave the service than those that have tech support service.\n",
    "6. Senior citizens are 3 times less likely to churn the service than other citizens.\n"
   ]
  },
  {
   "cell_type": "markdown",
   "metadata": {},
   "source": [
    "### 10. Recommendations on Handling the customer churn problem\n",
    "1. Improve the quality of service.\n",
    "2. Strive to convert customers who are not partners to become partners.\n",
    "3. Focus on making your customers have a long-term contract.\n",
    "4. Provide support to all customers.\n",
    "5. Engage with the customers likely to churn. Look at their profile, identify characteristics and analyse past interactions \n",
    "with your product and then simply talk to them. Ask for feedback, communicate latest developments that might be from interest or educate them on new product features. Approach customers likely to churn, but make sure that you come up with relevant things that may fit their individual needs. It will create a feeling of being understood and bind them to you and your business."
   ]
  },
  {
   "cell_type": "markdown",
   "metadata": {},
   "source": [
    "### 11. Model Improvement\n",
    "To improve our model below are important tips;\n",
    "1. Collect more information / features that describe user behaviour.\n",
    "2. Perform hyperparameter tunning.\n",
    "3. Use advanced algorithms such as neural network."
   ]
  }
 ],
 "metadata": {
  "kernelspec": {
   "display_name": "Python 3",
   "language": "python",
   "name": "python3"
  },
  "language_info": {
   "codemirror_mode": {
    "name": "ipython",
    "version": 3
   },
   "file_extension": ".py",
   "mimetype": "text/x-python",
   "name": "python",
   "nbconvert_exporter": "python",
   "pygments_lexer": "ipython3",
   "version": "3.6.5"
  }
 },
 "nbformat": 4,
 "nbformat_minor": 2
}
