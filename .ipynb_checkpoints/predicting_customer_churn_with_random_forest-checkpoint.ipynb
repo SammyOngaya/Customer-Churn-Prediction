{
 "cells": [
  {
   "cell_type": "markdown",
   "metadata": {},
   "source": [
    "# <center>CUSTOMER CHURN PREDICTION</center>"
   ]
  },
  {
   "cell_type": "markdown",
   "metadata": {},
   "source": [
    "### Business Case\n",
    "<hr>\n",
    "Without customers there is no business. Getting customer to use your product or subscribe to your service is never an easy task.Losing a single customer is even more painful to an organization as it deeply hurts the business in different directions such as loss of potential client, revenue, brand and additionally the lost customer can have a negative impact on the business if they opted out from service dissatisfacation."
   ]
  },
  {
   "cell_type": "markdown",
   "metadata": {},
   "source": [
    "### Objective\n",
    "1. To develope a model that will predict which customer will subscribe from our service beforehand.\n",
    "3. To provide necessary reccomendations and take proactive actions to make customers predicted to opt out stay."
   ]
  },
  {
   "cell_type": "markdown",
   "metadata": {},
   "source": [
    "### Data\n",
    "To achieve our objective we need to see the historical data of how the customers have been unsubscribing from our service. In technical term this is a supervised learning problem where we need some sample data on describing the characteristics of customers who churn from our service. We then train a machine learning algorithm using the labeled data of past churn behaviour and then use the trained model to predict the probability of next client who might churn our service.\n",
    "<hr>\n",
    "We will use open source tools to achieve our objectives above. The tools include Python based libraries such as scikit-learn, numpy, matplotlib, seaborn, and pandas. We will use the Random Forest Classifier algorithm to train our machine learning model and use the confusion matrix to evaluate and measure how our model performs. Finally we use our model to predict new customer data to see who is considering to unsubscribe from our product."
   ]
  },
  {
   "cell_type": "markdown",
   "metadata": {},
   "source": [
    "#### 1. Import required libraries"
   ]
  },
  {
   "cell_type": "code",
   "execution_count": 699,
   "metadata": {},
   "outputs": [],
   "source": [
    "import numpy as np\n",
    "import pandas as pd \n",
    "import matplotlib.pyplot as plt \n",
    "import seaborn as sns\n",
    "import warnings\n",
    "warnings.filterwarnings(\"ignore\")\n",
    "%matplotlib inline\n",
    "\n",
    "from sklearn.model_selection import train_test_split\n",
    "from sklearn.preprocessing import MinMaxScaler\n",
    "from sklearn.linear_model import LogisticRegression\n",
    "from sklearn.ensemble import RandomForestClassifier\n",
    "from sklearn.metrics import accuracy_score, classification_report,confusion_matrix\n",
    "from yellowbrick.classifier import ClassificationReport\n",
    "\n",
    "np.random.seed(1234)"
   ]
  },
  {
   "cell_type": "markdown",
   "metadata": {},
   "source": [
    "#### 2. Load our data"
   ]
  },
  {
   "cell_type": "code",
   "execution_count": 700,
   "metadata": {},
   "outputs": [],
   "source": [
    "data = pd.read_csv('customer_churn_prediction.csv')"
   ]
  },
  {
   "cell_type": "markdown",
   "metadata": {},
   "source": [
    "#### 3.Data exploration"
   ]
  },
  {
   "cell_type": "markdown",
   "metadata": {},
   "source": [
    "Peek first 5 records in our data"
   ]
  },
  {
   "cell_type": "code",
   "execution_count": 701,
   "metadata": {},
   "outputs": [
    {
     "data": {
      "text/html": [
       "<div>\n",
       "<style scoped>\n",
       "    .dataframe tbody tr th:only-of-type {\n",
       "        vertical-align: middle;\n",
       "    }\n",
       "\n",
       "    .dataframe tbody tr th {\n",
       "        vertical-align: top;\n",
       "    }\n",
       "\n",
       "    .dataframe thead th {\n",
       "        text-align: right;\n",
       "    }\n",
       "</style>\n",
       "<table border=\"1\" class=\"dataframe\">\n",
       "  <thead>\n",
       "    <tr style=\"text-align: right;\">\n",
       "      <th></th>\n",
       "      <th>worker_id</th>\n",
       "      <th>birthdate</th>\n",
       "      <th>gender</th>\n",
       "      <th>county</th>\n",
       "      <th>subcounty</th>\n",
       "      <th>industries</th>\n",
       "      <th>professions</th>\n",
       "      <th>source</th>\n",
       "      <th>agent_id</th>\n",
       "      <th>has_logged</th>\n",
       "      <th>status</th>\n",
       "      <th>created_at</th>\n",
       "      <th>updated_at</th>\n",
       "      <th>Login attempts</th>\n",
       "      <th>Churn</th>\n",
       "    </tr>\n",
       "  </thead>\n",
       "  <tbody>\n",
       "    <tr>\n",
       "      <th>0</th>\n",
       "      <td>5</td>\n",
       "      <td>25/08/1975</td>\n",
       "      <td>male</td>\n",
       "      <td>Nairobi</td>\n",
       "      <td>Westlands</td>\n",
       "      <td>Construction</td>\n",
       "      <td>Foreman</td>\n",
       "      <td>agent-app</td>\n",
       "      <td>NaN</td>\n",
       "      <td>yes</td>\n",
       "      <td>verified</td>\n",
       "      <td>24/07/2017 15:12</td>\n",
       "      <td>23/08/2017 10:57</td>\n",
       "      <td>1</td>\n",
       "      <td>0</td>\n",
       "    </tr>\n",
       "    <tr>\n",
       "      <th>1</th>\n",
       "      <td>6</td>\n",
       "      <td>18/04/1959</td>\n",
       "      <td>male</td>\n",
       "      <td>Kiambu</td>\n",
       "      <td>Githunguri</td>\n",
       "      <td>Domestic</td>\n",
       "      <td>Chef</td>\n",
       "      <td>agent-app</td>\n",
       "      <td>NaN</td>\n",
       "      <td>yes</td>\n",
       "      <td>verified</td>\n",
       "      <td>20/07/2017 19:49</td>\n",
       "      <td>14/09/2017 11:30</td>\n",
       "      <td>1</td>\n",
       "      <td>0</td>\n",
       "    </tr>\n",
       "    <tr>\n",
       "      <th>2</th>\n",
       "      <td>7</td>\n",
       "      <td>18/08/1988</td>\n",
       "      <td>female</td>\n",
       "      <td>Nairobi</td>\n",
       "      <td>Embakasi</td>\n",
       "      <td>Domestic</td>\n",
       "      <td>Caretaker</td>\n",
       "      <td>agent-app</td>\n",
       "      <td>NaN</td>\n",
       "      <td>yes</td>\n",
       "      <td>verified</td>\n",
       "      <td>20/07/2017 20:02</td>\n",
       "      <td>18/09/2017 12:27</td>\n",
       "      <td>1</td>\n",
       "      <td>0</td>\n",
       "    </tr>\n",
       "    <tr>\n",
       "      <th>3</th>\n",
       "      <td>8</td>\n",
       "      <td>31/12/1992</td>\n",
       "      <td>male</td>\n",
       "      <td>Nairobi</td>\n",
       "      <td>Westlands</td>\n",
       "      <td>General</td>\n",
       "      <td>Bartender</td>\n",
       "      <td>agent-app</td>\n",
       "      <td>NaN</td>\n",
       "      <td>yes</td>\n",
       "      <td>verified</td>\n",
       "      <td>20/07/2017 20:11</td>\n",
       "      <td>20/07/2017 20:11</td>\n",
       "      <td>1</td>\n",
       "      <td>0</td>\n",
       "    </tr>\n",
       "    <tr>\n",
       "      <th>4</th>\n",
       "      <td>9</td>\n",
       "      <td>28/11/1994</td>\n",
       "      <td>female</td>\n",
       "      <td>Nairobi</td>\n",
       "      <td>Westlands</td>\n",
       "      <td>General</td>\n",
       "      <td>Marketing Assistant</td>\n",
       "      <td>agent-app</td>\n",
       "      <td>NaN</td>\n",
       "      <td>yes</td>\n",
       "      <td>verified</td>\n",
       "      <td>20/07/2017 20:40</td>\n",
       "      <td>20/07/2017 20:40</td>\n",
       "      <td>1</td>\n",
       "      <td>0</td>\n",
       "    </tr>\n",
       "  </tbody>\n",
       "</table>\n",
       "</div>"
      ],
      "text/plain": [
       "   worker_id   birthdate  gender   county   subcounty     industries  \\\n",
       "0          5  25/08/1975    male  Nairobi   Westlands  Construction    \n",
       "1          6  18/04/1959    male   Kiambu  Githunguri      Domestic    \n",
       "2          7  18/08/1988  female  Nairobi    Embakasi      Domestic    \n",
       "3          8  31/12/1992    male  Nairobi   Westlands        General   \n",
       "4          9  28/11/1994  female  Nairobi   Westlands        General   \n",
       "\n",
       "           professions     source  agent_id has_logged    status  \\\n",
       "0              Foreman  agent-app       NaN        yes  verified   \n",
       "1                 Chef  agent-app       NaN        yes  verified   \n",
       "2           Caretaker   agent-app       NaN        yes  verified   \n",
       "3            Bartender  agent-app       NaN        yes  verified   \n",
       "4  Marketing Assistant  agent-app       NaN        yes  verified   \n",
       "\n",
       "         created_at        updated_at  Login attempts  Churn  \n",
       "0  24/07/2017 15:12  23/08/2017 10:57               1      0  \n",
       "1  20/07/2017 19:49  14/09/2017 11:30               1      0  \n",
       "2  20/07/2017 20:02  18/09/2017 12:27               1      0  \n",
       "3  20/07/2017 20:11  20/07/2017 20:11               1      0  \n",
       "4  20/07/2017 20:40  20/07/2017 20:40               1      0  "
      ]
     },
     "execution_count": 701,
     "metadata": {},
     "output_type": "execute_result"
    }
   ],
   "source": [
    "data.head()"
   ]
  },
  {
   "cell_type": "markdown",
   "metadata": {},
   "source": [
    "Get number of records and feature"
   ]
  },
  {
   "cell_type": "code",
   "execution_count": 702,
   "metadata": {},
   "outputs": [
    {
     "name": "stdout",
     "output_type": "stream",
     "text": [
      "We have  1037  records and  15  features \n"
     ]
    }
   ],
   "source": [
    "print(\"We have \",data.shape[0],\" records and \",data.shape[1],\" features \")"
   ]
  },
  {
   "cell_type": "markdown",
   "metadata": {},
   "source": [
    "List the dataset variables"
   ]
  },
  {
   "cell_type": "code",
   "execution_count": 703,
   "metadata": {},
   "outputs": [
    {
     "data": {
      "text/plain": [
       "['worker_id',\n",
       " 'birthdate',\n",
       " 'gender',\n",
       " 'county',\n",
       " 'subcounty',\n",
       " 'industries',\n",
       " 'professions',\n",
       " 'source',\n",
       " 'agent_id',\n",
       " 'has_logged',\n",
       " 'status',\n",
       " 'created_at',\n",
       " 'updated_at',\n",
       " 'Login attempts',\n",
       " 'Churn']"
      ]
     },
     "execution_count": 703,
     "metadata": {},
     "output_type": "execute_result"
    }
   ],
   "source": [
    "list(data.columns)"
   ]
  },
  {
   "cell_type": "markdown",
   "metadata": {},
   "source": [
    "Group by Churn"
   ]
  },
  {
   "cell_type": "code",
   "execution_count": 704,
   "metadata": {},
   "outputs": [
    {
     "data": {
      "text/plain": [
       "Churn\n",
       "0    589\n",
       "1    448\n",
       "Name: Churn, dtype: int64"
      ]
     },
     "execution_count": 704,
     "metadata": {},
     "output_type": "execute_result"
    }
   ],
   "source": [
    "data.groupby(['Churn'])['Churn'].count()"
   ]
  },
  {
   "cell_type": "code",
   "execution_count": 705,
   "metadata": {},
   "outputs": [
    {
     "data": {
      "text/plain": [
       "<matplotlib.axes._subplots.AxesSubplot at 0x28bd2775f60>"
      ]
     },
     "execution_count": 705,
     "metadata": {},
     "output_type": "execute_result"
    },
    {
     "data": {
      "image/png": "[encoded data removed]",
      "text/plain": [
       "<Figure size 792x504 with 1 Axes>"
      ]
     },
     "metadata": {},
     "output_type": "display_data"
    }
   ],
   "source": [
    "data.groupby(['Churn'])['Churn'].count().plot.bar(width=1,figsize=(11, 7))"
   ]
  },
  {
   "cell_type": "markdown",
   "metadata": {},
   "source": [
    "Group by Gender"
   ]
  },
  {
   "cell_type": "code",
   "execution_count": 706,
   "metadata": {},
   "outputs": [
    {
     "data": {
      "text/plain": [
       "gender  Churn\n",
       "female  0         97\n",
       "        1         48\n",
       "male    0        492\n",
       "        1        400\n",
       "Name: Churn, dtype: int64"
      ]
     },
     "execution_count": 706,
     "metadata": {},
     "output_type": "execute_result"
    }
   ],
   "source": [
    "data.groupby(['gender','Churn'])['Churn'].count()"
   ]
  },
  {
   "cell_type": "code",
   "execution_count": 707,
   "metadata": {},
   "outputs": [
    {
     "data": {
      "text/plain": [
       "<matplotlib.axes._subplots.AxesSubplot at 0x28bd2a4e470>"
      ]
     },
     "execution_count": 707,
     "metadata": {},
     "output_type": "execute_result"
    },
    {
     "data": {
      "image/png": "[encoded data removed]",
      "text/plain": [
       "<Figure size 792x504 with 1 Axes>"
      ]
     },
     "metadata": {},
     "output_type": "display_data"
    }
   ],
   "source": [
    "data.groupby(['gender','Churn'])['Churn'].count().unstack().plot.bar(width=1,figsize=(11, 7))"
   ]
  },
  {
   "cell_type": "markdown",
   "metadata": {},
   "source": [
    "Group by Industry"
   ]
  },
  {
   "cell_type": "code",
   "execution_count": 708,
   "metadata": {},
   "outputs": [
    {
     "data": {
      "text/plain": [
       "industries        Churn\n",
       "Agriculture       0          1\n",
       "Construction      0        474\n",
       "                  1        429\n",
       "Construction      0          1\n",
       "Domestic          0          3\n",
       "Domestic          0          2\n",
       "Engineering & IT  0         18\n",
       "                  1          7\n",
       "General           0         89\n",
       "                  1         12\n",
       "Healthcare        0          1\n",
       "Name: Churn, dtype: int64"
      ]
     },
     "execution_count": 708,
     "metadata": {},
     "output_type": "execute_result"
    }
   ],
   "source": [
    "data.groupby(['industries','Churn'])['Churn'].count()"
   ]
  },
  {
   "cell_type": "code",
   "execution_count": 709,
   "metadata": {},
   "outputs": [
    {
     "data": {
      "text/plain": [
       "<matplotlib.axes._subplots.AxesSubplot at 0x28bd2abe438>"
      ]
     },
     "execution_count": 709,
     "metadata": {},
     "output_type": "execute_result"
    },
    {
     "data": {
      "image/png": "[encoded data removed]",
      "text/plain": [
       "<Figure size 792x504 with 1 Axes>"
      ]
     },
     "metadata": {},
     "output_type": "display_data"
    }
   ],
   "source": [
    "data.groupby(['industries','Churn'])['Churn'].count().unstack().plot.barh(width=1.25,figsize=(11, 7))"
   ]
  },
  {
   "cell_type": "markdown",
   "metadata": {},
   "source": [
    "Group by Profession"
   ]
  },
  {
   "cell_type": "code",
   "execution_count": 710,
   "metadata": {
    "scrolled": false
   },
   "outputs": [
    {
     "data": {
      "text/plain": [
       "professions                                    Churn\n",
       " Agronomist                                    0          1\n",
       "Accountant                                     0          8\n",
       "Accounts Trainee                               0          1\n",
       "Aluminium Fixer                                0         25\n",
       "Architects                                     0          1\n",
       "Associate Developer                            1          1\n",
       "Bartender                                      0          2\n",
       "Blogger                                        0          1\n",
       "Bookkeeping | Clerk                            0          1\n",
       "Brand Ambassador                               0          1\n",
       "Brand Ambassador | Data Science and Analytics  0          1\n",
       "Caretaker                                      0          1\n",
       "Caretaker                                      0          1\n",
       "Carpenter                                      0        448\n",
       "                                               1        429\n",
       "Cartographers                                  0          1\n",
       "                                               1          1\n",
       "Cashier                                        0          1\n",
       "Casual Labourer                                0          3\n",
       "Certified Public Accountant                    0          2\n",
       "                                               1          1\n",
       "Chef                                           0          2\n",
       "Civil Engineer                                 0          5\n",
       "                                               1          1\n",
       "Cleaner                                        0          3\n",
       "Clerk                                          1          1\n",
       "Clerk                                          0          1\n",
       "Computer Networking                            0          1\n",
       "Concept Artist                                 0          1\n",
       "Customer Agent                                 0          1\n",
       "                                                       ... \n",
       "Milker                                         0          1\n",
       "Network Engineers                              0          2\n",
       "Office Assistant                               0          4\n",
       "Paralegal                                      0          1\n",
       "Personal Assistant                             0          1\n",
       "Project Manager                                0          1\n",
       "Public Health Officer                          0          2\n",
       "Relationship Manager                           0          3\n",
       "Reporter                                       0          1\n",
       "                                               1          1\n",
       "Sales & Marketing                              0          2\n",
       "Sales Representative                           0          2\n",
       "                                               1          3\n",
       "Sales rep                                      0          1\n",
       "Secretary                                      0          1\n",
       "Software Developer                             0          1\n",
       "                                               1          1\n",
       "Software Developer-Systems Software            0          1\n",
       "Sound Engineer                                 0          1\n",
       "Statisticians                                  0          1\n",
       "Story Editor                                   0          1\n",
       "Technical Support Engineer                     1          1\n",
       "Truck Driver                                   1          1\n",
       "Waiter                                         0          3\n",
       "Waiter/Waitress                                0          1\n",
       "Wardrobe Assistant | Event Planning            0          1\n",
       "Web Design                                     0          1\n",
       "Xaba Evangelist                                0          2\n",
       "Xaba Evangelist | Knowlledge Officer           0          1\n",
       "customer service rep                           0          1\n",
       "Name: Churn, Length: 95, dtype: int64"
      ]
     },
     "execution_count": 710,
     "metadata": {},
     "output_type": "execute_result"
    }
   ],
   "source": [
    "data.groupby(['professions','Churn'])['Churn'].count()"
   ]
  },
  {
   "cell_type": "code",
   "execution_count": 711,
   "metadata": {
    "scrolled": false
   },
   "outputs": [
    {
     "data": {
      "text/plain": [
       "<matplotlib.axes._subplots.AxesSubplot at 0x28bd2b3f748>"
      ]
     },
     "execution_count": 711,
     "metadata": {},
     "output_type": "execute_result"
    },
    {
     "data": {
      "image/png": "[encoded data removed]",
      "text/plain": [
       "<Figure size 842.4x648 with 1 Axes>"
      ]
     },
     "metadata": {},
     "output_type": "display_data"
    }
   ],
   "source": [
    "data.groupby(['professions','Churn'])['Churn'].count().unstack().plot.barh(width=1,figsize=(11.7, 9))"
   ]
  },
  {
   "cell_type": "markdown",
   "metadata": {},
   "source": [
    "Group by County"
   ]
  },
  {
   "cell_type": "code",
   "execution_count": 712,
   "metadata": {
    "scrolled": false
   },
   "outputs": [
    {
     "data": {
      "text/plain": [
       "county       Churn\n",
       "Bomet        0          1\n",
       "             1          1\n",
       "Busia        0          1\n",
       "Embu         0          1\n",
       "Garissa      0          1\n",
       "Homa Bay     0          3\n",
       "Kajiado      0         22\n",
       "             1         18\n",
       "Kakamega     0          4\n",
       "Kiambu       0         56\n",
       "             1         40\n",
       "Kirinyaga    0          1\n",
       "Kisii        0          4\n",
       "             1          1\n",
       "Kisumu       0          2\n",
       "Kitui        0          1\n",
       "Laikipia     0          2\n",
       "Machakos     0          4\n",
       "             1          8\n",
       "Makueni      0          1\n",
       "Meru         0          2\n",
       "             1          1\n",
       "Murang'a     0          1\n",
       "Nairobi      0        474\n",
       "             1        379\n",
       "Nakuru       0          4\n",
       "Samburu      0          1\n",
       "Trans-Nzoia  0          2\n",
       "Vihiga       0          1\n",
       "Name: Churn, dtype: int64"
      ]
     },
     "execution_count": 712,
     "metadata": {},
     "output_type": "execute_result"
    }
   ],
   "source": [
    "data.groupby(['county','Churn'])['Churn'].count()"
   ]
  },
  {
   "cell_type": "code",
   "execution_count": 713,
   "metadata": {},
   "outputs": [
    {
     "data": {
      "text/plain": [
       "<matplotlib.axes._subplots.AxesSubplot at 0x28bd2ba9fd0>"
      ]
     },
     "execution_count": 713,
     "metadata": {},
     "output_type": "execute_result"
    },
    {
     "data": {
      "image/png": "[encoded data removed]",
      "text/plain": [
       "<Figure size 792x576 with 1 Axes>"
      ]
     },
     "metadata": {},
     "output_type": "display_data"
    }
   ],
   "source": [
    "data.groupby(['county','Churn'])['Churn'].count().unstack().plot.barh(width=2,figsize=(11, 8))"
   ]
  },
  {
   "cell_type": "markdown",
   "metadata": {},
   "source": [
    "Group by Login Attempts"
   ]
  },
  {
   "cell_type": "code",
   "execution_count": 714,
   "metadata": {},
   "outputs": [
    {
     "data": {
      "text/plain": [
       "Login attempts  Churn\n",
       "1               0         98\n",
       "2               0         40\n",
       "                1         11\n",
       "3               0         70\n",
       "                1         30\n",
       "4               0        341\n",
       "                1        349\n",
       "5               0         40\n",
       "                1         58\n",
       "Name: Churn, dtype: int64"
      ]
     },
     "execution_count": 714,
     "metadata": {},
     "output_type": "execute_result"
    }
   ],
   "source": [
    "data.groupby(['Login attempts','Churn'])['Churn'].count()"
   ]
  },
  {
   "cell_type": "code",
   "execution_count": 715,
   "metadata": {},
   "outputs": [
    {
     "data": {
      "text/plain": [
       "<matplotlib.axes._subplots.AxesSubplot at 0x28bd3258da0>"
      ]
     },
     "execution_count": 715,
     "metadata": {},
     "output_type": "execute_result"
    },
    {
     "data": {
      "image/png": "[encoded data removed]",
      "text/plain": [
       "<Figure size 792x504 with 1 Axes>"
      ]
     },
     "metadata": {},
     "output_type": "display_data"
    }
   ],
   "source": [
    "data.groupby(['Login attempts','Churn'])['Churn'].count().unstack().plot.bar(width=2,figsize=(11, 7))"
   ]
  },
  {
   "cell_type": "markdown",
   "metadata": {},
   "source": [
    "Group by Source"
   ]
  },
  {
   "cell_type": "code",
   "execution_count": 716,
   "metadata": {},
   "outputs": [
    {
     "data": {
      "text/plain": [
       "source     Churn\n",
       "agent-app  0        116\n",
       "           1         19\n",
       "nca        0        473\n",
       "           1        429\n",
       "Name: Churn, dtype: int64"
      ]
     },
     "execution_count": 716,
     "metadata": {},
     "output_type": "execute_result"
    }
   ],
   "source": [
    "data.groupby(['source','Churn'])['Churn'].count()"
   ]
  },
  {
   "cell_type": "code",
   "execution_count": 717,
   "metadata": {},
   "outputs": [
    {
     "data": {
      "text/plain": [
       "<matplotlib.axes._subplots.AxesSubplot at 0x28bd3859c88>"
      ]
     },
     "execution_count": 717,
     "metadata": {},
     "output_type": "execute_result"
    },
    {
     "data": {
      "image/png": "[encoded data removed]",
      "text/plain": [
       "<Figure size 792x504 with 1 Axes>"
      ]
     },
     "metadata": {},
     "output_type": "display_data"
    }
   ],
   "source": [
    "data.groupby(['source','Churn'])['Churn'].count().unstack().plot.bar(width=2,figsize=(11, 7))"
   ]
  },
  {
   "cell_type": "markdown",
   "metadata": {},
   "source": [
    "#### 4. Data Preprocessing"
   ]
  },
  {
   "cell_type": "markdown",
   "metadata": {},
   "source": [
    "Handle Missing Values"
   ]
  },
  {
   "cell_type": "code",
   "execution_count": 718,
   "metadata": {},
   "outputs": [],
   "source": [
    "data=data.dropna()"
   ]
  },
  {
   "cell_type": "markdown",
   "metadata": {},
   "source": [
    "Check data types"
   ]
  },
  {
   "cell_type": "code",
   "execution_count": 719,
   "metadata": {},
   "outputs": [
    {
     "data": {
      "text/plain": [
       "worker_id           int64\n",
       "birthdate          object\n",
       "gender             object\n",
       "county             object\n",
       "subcounty          object\n",
       "industries         object\n",
       "professions        object\n",
       "source             object\n",
       "agent_id          float64\n",
       "has_logged         object\n",
       "status             object\n",
       "created_at         object\n",
       "updated_at         object\n",
       "Login attempts      int64\n",
       "Churn               int64\n",
       "dtype: object"
      ]
     },
     "execution_count": 719,
     "metadata": {},
     "output_type": "execute_result"
    }
   ],
   "source": [
    "data.dtypes"
   ]
  },
  {
   "cell_type": "markdown",
   "metadata": {},
   "source": [
    "Drop irrelevant daata"
   ]
  },
  {
   "cell_type": "code",
   "execution_count": 720,
   "metadata": {},
   "outputs": [],
   "source": [
    "data.drop(['birthdate','created_at','updated_at'],axis=1, inplace=True)"
   ]
  },
  {
   "cell_type": "markdown",
   "metadata": {},
   "source": [
    "Convert numeric features to number type from Object type"
   ]
  },
  {
   "cell_type": "code",
   "execution_count": 721,
   "metadata": {},
   "outputs": [],
   "source": [
    "data=data.apply(lambda col: pd.factorize(col)[0])"
   ]
  },
  {
   "cell_type": "code",
   "execution_count": 722,
   "metadata": {},
   "outputs": [
    {
     "data": {
      "text/html": [
       "<div>\n",
       "<style scoped>\n",
       "    .dataframe tbody tr th:only-of-type {\n",
       "        vertical-align: middle;\n",
       "    }\n",
       "\n",
       "    .dataframe tbody tr th {\n",
       "        vertical-align: top;\n",
       "    }\n",
       "\n",
       "    .dataframe thead th {\n",
       "        text-align: right;\n",
       "    }\n",
       "</style>\n",
       "<table border=\"1\" class=\"dataframe\">\n",
       "  <thead>\n",
       "    <tr style=\"text-align: right;\">\n",
       "      <th></th>\n",
       "      <th>worker_id</th>\n",
       "      <th>gender</th>\n",
       "      <th>county</th>\n",
       "      <th>subcounty</th>\n",
       "      <th>industries</th>\n",
       "      <th>professions</th>\n",
       "      <th>source</th>\n",
       "      <th>agent_id</th>\n",
       "      <th>has_logged</th>\n",
       "      <th>status</th>\n",
       "      <th>Login attempts</th>\n",
       "      <th>Churn</th>\n",
       "    </tr>\n",
       "  </thead>\n",
       "  <tbody>\n",
       "    <tr>\n",
       "      <th>9</th>\n",
       "      <td>0</td>\n",
       "      <td>0</td>\n",
       "      <td>0</td>\n",
       "      <td>0</td>\n",
       "      <td>0</td>\n",
       "      <td>0</td>\n",
       "      <td>0</td>\n",
       "      <td>0</td>\n",
       "      <td>0</td>\n",
       "      <td>0</td>\n",
       "      <td>0</td>\n",
       "      <td>0</td>\n",
       "    </tr>\n",
       "    <tr>\n",
       "      <th>12</th>\n",
       "      <td>1</td>\n",
       "      <td>0</td>\n",
       "      <td>0</td>\n",
       "      <td>0</td>\n",
       "      <td>1</td>\n",
       "      <td>1</td>\n",
       "      <td>0</td>\n",
       "      <td>1</td>\n",
       "      <td>0</td>\n",
       "      <td>0</td>\n",
       "      <td>0</td>\n",
       "      <td>0</td>\n",
       "    </tr>\n",
       "    <tr>\n",
       "      <th>13</th>\n",
       "      <td>2</td>\n",
       "      <td>1</td>\n",
       "      <td>1</td>\n",
       "      <td>1</td>\n",
       "      <td>1</td>\n",
       "      <td>2</td>\n",
       "      <td>0</td>\n",
       "      <td>2</td>\n",
       "      <td>0</td>\n",
       "      <td>0</td>\n",
       "      <td>0</td>\n",
       "      <td>0</td>\n",
       "    </tr>\n",
       "    <tr>\n",
       "      <th>15</th>\n",
       "      <td>3</td>\n",
       "      <td>1</td>\n",
       "      <td>0</td>\n",
       "      <td>0</td>\n",
       "      <td>1</td>\n",
       "      <td>3</td>\n",
       "      <td>0</td>\n",
       "      <td>1</td>\n",
       "      <td>1</td>\n",
       "      <td>0</td>\n",
       "      <td>0</td>\n",
       "      <td>0</td>\n",
       "    </tr>\n",
       "    <tr>\n",
       "      <th>19</th>\n",
       "      <td>4</td>\n",
       "      <td>0</td>\n",
       "      <td>0</td>\n",
       "      <td>2</td>\n",
       "      <td>1</td>\n",
       "      <td>4</td>\n",
       "      <td>0</td>\n",
       "      <td>2</td>\n",
       "      <td>0</td>\n",
       "      <td>0</td>\n",
       "      <td>0</td>\n",
       "      <td>0</td>\n",
       "    </tr>\n",
       "  </tbody>\n",
       "</table>\n",
       "</div>"
      ],
      "text/plain": [
       "    worker_id  gender  county  subcounty  industries  professions  source  \\\n",
       "9           0       0       0          0           0            0       0   \n",
       "12          1       0       0          0           1            1       0   \n",
       "13          2       1       1          1           1            2       0   \n",
       "15          3       1       0          0           1            3       0   \n",
       "19          4       0       0          2           1            4       0   \n",
       "\n",
       "    agent_id  has_logged  status  Login attempts  Churn  \n",
       "9          0           0       0               0      0  \n",
       "12         1           0       0               0      0  \n",
       "13         2           0       0               0      0  \n",
       "15         1           1       0               0      0  \n",
       "19         2           0       0               0      0  "
      ]
     },
     "execution_count": 722,
     "metadata": {},
     "output_type": "execute_result"
    }
   ],
   "source": [
    "data.head()"
   ]
  },
  {
   "cell_type": "code",
   "execution_count": 723,
   "metadata": {},
   "outputs": [
    {
     "data": {
      "text/plain": [
       "Index(['worker_id', 'gender', 'county', 'subcounty', 'industries',\n",
       "       'professions', 'source', 'agent_id', 'has_logged', 'status',\n",
       "       'Login attempts', 'Churn'],\n",
       "      dtype='object')"
      ]
     },
     "execution_count": 723,
     "metadata": {},
     "output_type": "execute_result"
    }
   ],
   "source": [
    "data.columns"
   ]
  },
  {
   "cell_type": "code",
   "execution_count": 724,
   "metadata": {},
   "outputs": [],
   "source": [
    "X=data[['gender', 'county', 'subcounty', 'industries',\n",
    "       'professions', 'source', 'agent_id', 'has_logged', 'status',\n",
    "       'Login attempts']]"
   ]
  },
  {
   "cell_type": "markdown",
   "metadata": {},
   "source": [
    "#### 5. Feature Engineering"
   ]
  },
  {
   "cell_type": "code",
   "execution_count": 725,
   "metadata": {},
   "outputs": [
    {
     "data": {
      "image/png": "[encoded data removed]",
      "text/plain": [
       "<Figure size 1008x576 with 1 Axes>"
      ]
     },
     "metadata": {},
     "output_type": "display_data"
    }
   ],
   "source": [
    "important_features=RandomForestClassifier()\n",
    "important_features.fit(X,data['Churn'])\n",
    "\n",
    "importances=important_features.feature_importances_\n",
    "indices=np.argsort(importances)[::-1]\n",
    "features = [X.columns[i] for i in indices]\n",
    "\n",
    "plt.figure(figsize=(14,8))\n",
    "plt.title(\"Feature Importance\")\n",
    "plt.bar(range(X.shape[1]), importances[indices])\n",
    "plt.xticks(range(X.shape[1]), features, rotation=90)\n",
    "plt.show()"
   ]
  },
  {
   "cell_type": "code",
   "execution_count": 726,
   "metadata": {},
   "outputs": [],
   "source": [
    "features=data[[\n",
    " 'county',\n",
    " 'subcounty',\n",
    " 'industries',\n",
    " 'professions',\n",
    " 'agent_id',\n",
    " 'Login attempts',\n",
    "]]\n",
    "\n",
    "target=data['Churn']"
   ]
  },
  {
   "cell_type": "markdown",
   "metadata": {},
   "source": [
    "Scaling our features"
   ]
  },
  {
   "cell_type": "code",
   "execution_count": 727,
   "metadata": {},
   "outputs": [],
   "source": [
    "features=MinMaxScaler().fit_transform(features)"
   ]
  },
  {
   "cell_type": "markdown",
   "metadata": {},
   "source": [
    "#### 6. Splitting our data into training and testing set"
   ]
  },
  {
   "cell_type": "code",
   "execution_count": 728,
   "metadata": {},
   "outputs": [],
   "source": [
    "X_train, X_test, y_train, y_test=train_test_split(features,target, test_size=0.3,random_state=7)"
   ]
  },
  {
   "cell_type": "code",
   "execution_count": 729,
   "metadata": {},
   "outputs": [
    {
     "data": {
      "text/plain": [
       "((74, 6), (32, 6), (74,), (32,))"
      ]
     },
     "execution_count": 729,
     "metadata": {},
     "output_type": "execute_result"
    }
   ],
   "source": [
    "X_train.shape, X_test.shape, y_train.shape, y_test.shape"
   ]
  },
  {
   "cell_type": "markdown",
   "metadata": {},
   "source": [
    "#### 7. Create our Machine Learning Model"
   ]
  },
  {
   "cell_type": "code",
   "execution_count": 730,
   "metadata": {},
   "outputs": [],
   "source": [
    "model=RandomForestClassifier()\n",
    "model.fit(X_train,y_train)\n",
    "prediction=model.predict(X_test)"
   ]
  },
  {
   "cell_type": "code",
   "execution_count": 731,
   "metadata": {},
   "outputs": [
    {
     "data": {
      "text/plain": [
       "array([0, 0, 0, 0, 0, 0, 0, 1, 0, 0], dtype=int64)"
      ]
     },
     "execution_count": 731,
     "metadata": {},
     "output_type": "execute_result"
    }
   ],
   "source": [
    "prediction[0:10]"
   ]
  },
  {
   "cell_type": "markdown",
   "metadata": {},
   "source": [
    "#### 8. Evaluate our model"
   ]
  },
  {
   "cell_type": "code",
   "execution_count": 732,
   "metadata": {},
   "outputs": [
    {
     "name": "stdout",
     "output_type": "stream",
     "text": [
      "Accuracy is :  84.375 %\n"
     ]
    }
   ],
   "source": [
    "print(\"Accuracy is : \",accuracy_score(prediction, y_test)*100,\"%\")"
   ]
  },
  {
   "cell_type": "code",
   "execution_count": 733,
   "metadata": {},
   "outputs": [
    {
     "name": "stdout",
     "output_type": "stream",
     "text": [
      "              precision    recall  f1-score   support\n",
      "\n",
      "           0       0.96      0.87      0.91        30\n",
      "           1       0.20      0.50      0.29         2\n",
      "\n",
      "   micro avg       0.84      0.84      0.84        32\n",
      "   macro avg       0.58      0.68      0.60        32\n",
      "weighted avg       0.92      0.84      0.87        32\n",
      "\n"
     ]
    }
   ],
   "source": [
    "print(classification_report(prediction, y_test))"
   ]
  },
  {
   "cell_type": "code",
   "execution_count": 734,
   "metadata": {},
   "outputs": [
    {
     "data": {
      "image/png": "[encoded data removed]",
      "text/plain": [
       "<Figure size 432x288 with 2 Axes>"
      ]
     },
     "metadata": {},
     "output_type": "display_data"
    }
   ],
   "source": [
    "model_conf_matrix = confusion_matrix(y_test, prediction)\n",
    "sns.heatmap(model_conf_matrix, annot=True,  fmt='', linewidths=.5);\n",
    "title = 'Model Performance'\n",
    "plt.title(title);"
   ]
  },
  {
   "cell_type": "code",
   "execution_count": 735,
   "metadata": {},
   "outputs": [],
   "source": [
    "# !conda install -c districtdatalabs yellowbrick"
   ]
  },
  {
   "cell_type": "code",
   "execution_count": 736,
   "metadata": {
    "scrolled": true
   },
   "outputs": [
    {
     "data": {
      "image/png": "[encoded data removed]",
      "text/plain": [
       "<Figure size 432x288 with 2 Axes>"
      ]
     },
     "metadata": {},
     "output_type": "display_data"
    }
   ],
   "source": [
    "# Instantiate the classification model and visualizer\n",
    "visualizer = ClassificationReport(model, classes=['1','0'])\n",
    "visualizer.fit(X_train, y_train)  # Fit the training data to the visualizer\n",
    "visualizer.score(X_test, y_test)  # Evaluate the model on the test data\n",
    "visualizer.poof()   "
   ]
  },
  {
   "cell_type": "markdown",
   "metadata": {},
   "source": [
    "### 10. Observation\n",
    "1. More male tend to unsubscribe more than female.\n",
    "2. Nairobi County leads in the number of customers who are unsubscribing.\n",
    "3. Login attempts and profession greatly influences the customers.\n",
    "4. Our model performs fairly well with an accuracy and F1-Score of above 80%. However, there is a great room for improvement as described bellow in Model Improvement."
   ]
  },
  {
   "cell_type": "markdown",
   "metadata": {},
   "source": [
    "### 11. Recommendations on Handling the customer churn problem\n",
    "1. Improve product usability to make the product user friendly.\n",
    "3. Engage with the customers likely to churn. Look at their profile, identify characteristics and analyse past interactions \n",
    "with your product and then simply talk to them. Ask for feedback, communicate latest developments that might be from interest or educate them on new product features. Approach customers likely to churn, but make sure that you come up with relevant things that may fit their individual needs. It will create a feeling of being understood and bind them to you and your business."
   ]
  },
  {
   "cell_type": "markdown",
   "metadata": {},
   "source": [
    "### 12. Model Improvement\n",
    "To improve our model below are important tips;\n",
    "1. Collect more information / features that describe user behaviour.\n",
    "2. Perform hyperparameter tunning.\n",
    "3. Use advanced algorithms such as neural network."
   ]
  }
 ],
 "metadata": {
  "kernelspec": {
   "display_name": "Python 3",
   "language": "python",
   "name": "python3"
  },
  "language_info": {
   "codemirror_mode": {
    "name": "ipython",
    "version": 3
   },
   "file_extension": ".py",
   "mimetype": "text/x-python",
   "name": "python",
   "nbconvert_exporter": "python",
   "pygments_lexer": "ipython3",
   "version": "3.6.5"
  }
 },
 "nbformat": 4,
 "nbformat_minor": 2
}
