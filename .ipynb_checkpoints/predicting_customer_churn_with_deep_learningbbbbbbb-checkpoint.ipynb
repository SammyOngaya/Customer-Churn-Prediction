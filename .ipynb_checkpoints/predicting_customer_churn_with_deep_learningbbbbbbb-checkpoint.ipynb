{
 "cells": [
  {
   "cell_type": "code",
   "execution_count": 376,
   "metadata": {},
   "outputs": [],
   "source": [
    "import numpy as np\n",
    "import pandas as pd\n",
    "import matplotlib.pyplot as plt\n",
    "\n",
    "from sklearn.model_selection import train_test_split\n",
    "from sklearn.preprocessing import MinMaxScaler\n",
    "\n",
    "from keras.utils import np_utils\n",
    "from keras.layers import Dense, Dropout\n",
    "from keras.models import Sequential\n",
    "\n",
    "plt.style.use('ggplot')\n",
    "np.random.seed(1234)"
   ]
  },
  {
   "cell_type": "code",
   "execution_count": 377,
   "metadata": {},
   "outputs": [],
   "source": [
    "data=pd.read_csv(\"customer_churn_prediction.csv\")"
   ]
  },
  {
   "cell_type": "code",
   "execution_count": 378,
   "metadata": {},
   "outputs": [
    {
     "data": {
      "text/html": [
       "<div>\n",
       "<style scoped>\n",
       "    .dataframe tbody tr th:only-of-type {\n",
       "        vertical-align: middle;\n",
       "    }\n",
       "\n",
       "    .dataframe tbody tr th {\n",
       "        vertical-align: top;\n",
       "    }\n",
       "\n",
       "    .dataframe thead th {\n",
       "        text-align: right;\n",
       "    }\n",
       "</style>\n",
       "<table border=\"1\" class=\"dataframe\">\n",
       "  <thead>\n",
       "    <tr style=\"text-align: right;\">\n",
       "      <th></th>\n",
       "      <th>customerID</th>\n",
       "      <th>gender</th>\n",
       "      <th>SeniorCitizen</th>\n",
       "      <th>Partner</th>\n",
       "      <th>Dependents</th>\n",
       "      <th>tenure</th>\n",
       "      <th>PhoneService</th>\n",
       "      <th>MultipleLines</th>\n",
       "      <th>InternetService</th>\n",
       "      <th>OnlineSecurity</th>\n",
       "      <th>...</th>\n",
       "      <th>DeviceProtection</th>\n",
       "      <th>TechSupport</th>\n",
       "      <th>StreamingTV</th>\n",
       "      <th>StreamingMovies</th>\n",
       "      <th>Contract</th>\n",
       "      <th>PaperlessBilling</th>\n",
       "      <th>PaymentMethod</th>\n",
       "      <th>MonthlyCharges</th>\n",
       "      <th>TotalCharges</th>\n",
       "      <th>Churn</th>\n",
       "    </tr>\n",
       "  </thead>\n",
       "  <tbody>\n",
       "    <tr>\n",
       "      <th>0</th>\n",
       "      <td>7590-VHVEG</td>\n",
       "      <td>Female</td>\n",
       "      <td>0</td>\n",
       "      <td>Yes</td>\n",
       "      <td>No</td>\n",
       "      <td>1</td>\n",
       "      <td>No</td>\n",
       "      <td>No phone service</td>\n",
       "      <td>DSL</td>\n",
       "      <td>No</td>\n",
       "      <td>...</td>\n",
       "      <td>No</td>\n",
       "      <td>No</td>\n",
       "      <td>No</td>\n",
       "      <td>No</td>\n",
       "      <td>Month-to-month</td>\n",
       "      <td>Yes</td>\n",
       "      <td>Electronic check</td>\n",
       "      <td>29.85</td>\n",
       "      <td>29.85</td>\n",
       "      <td>No</td>\n",
       "    </tr>\n",
       "    <tr>\n",
       "      <th>1</th>\n",
       "      <td>5575-GNVDE</td>\n",
       "      <td>Male</td>\n",
       "      <td>0</td>\n",
       "      <td>No</td>\n",
       "      <td>No</td>\n",
       "      <td>34</td>\n",
       "      <td>Yes</td>\n",
       "      <td>No</td>\n",
       "      <td>DSL</td>\n",
       "      <td>Yes</td>\n",
       "      <td>...</td>\n",
       "      <td>Yes</td>\n",
       "      <td>No</td>\n",
       "      <td>No</td>\n",
       "      <td>No</td>\n",
       "      <td>One year</td>\n",
       "      <td>No</td>\n",
       "      <td>Mailed check</td>\n",
       "      <td>56.95</td>\n",
       "      <td>1889.5</td>\n",
       "      <td>No</td>\n",
       "    </tr>\n",
       "    <tr>\n",
       "      <th>2</th>\n",
       "      <td>3668-QPYBK</td>\n",
       "      <td>Male</td>\n",
       "      <td>0</td>\n",
       "      <td>No</td>\n",
       "      <td>No</td>\n",
       "      <td>2</td>\n",
       "      <td>Yes</td>\n",
       "      <td>No</td>\n",
       "      <td>DSL</td>\n",
       "      <td>Yes</td>\n",
       "      <td>...</td>\n",
       "      <td>No</td>\n",
       "      <td>No</td>\n",
       "      <td>No</td>\n",
       "      <td>No</td>\n",
       "      <td>Month-to-month</td>\n",
       "      <td>Yes</td>\n",
       "      <td>Mailed check</td>\n",
       "      <td>53.85</td>\n",
       "      <td>108.15</td>\n",
       "      <td>Yes</td>\n",
       "    </tr>\n",
       "    <tr>\n",
       "      <th>3</th>\n",
       "      <td>7795-CFOCW</td>\n",
       "      <td>Male</td>\n",
       "      <td>0</td>\n",
       "      <td>No</td>\n",
       "      <td>No</td>\n",
       "      <td>45</td>\n",
       "      <td>No</td>\n",
       "      <td>No phone service</td>\n",
       "      <td>DSL</td>\n",
       "      <td>Yes</td>\n",
       "      <td>...</td>\n",
       "      <td>Yes</td>\n",
       "      <td>Yes</td>\n",
       "      <td>No</td>\n",
       "      <td>No</td>\n",
       "      <td>One year</td>\n",
       "      <td>No</td>\n",
       "      <td>Bank transfer (automatic)</td>\n",
       "      <td>42.30</td>\n",
       "      <td>1840.75</td>\n",
       "      <td>No</td>\n",
       "    </tr>\n",
       "    <tr>\n",
       "      <th>4</th>\n",
       "      <td>9237-HQITU</td>\n",
       "      <td>Female</td>\n",
       "      <td>0</td>\n",
       "      <td>No</td>\n",
       "      <td>No</td>\n",
       "      <td>2</td>\n",
       "      <td>Yes</td>\n",
       "      <td>No</td>\n",
       "      <td>Fiber optic</td>\n",
       "      <td>No</td>\n",
       "      <td>...</td>\n",
       "      <td>No</td>\n",
       "      <td>No</td>\n",
       "      <td>No</td>\n",
       "      <td>No</td>\n",
       "      <td>Month-to-month</td>\n",
       "      <td>Yes</td>\n",
       "      <td>Electronic check</td>\n",
       "      <td>70.70</td>\n",
       "      <td>151.65</td>\n",
       "      <td>Yes</td>\n",
       "    </tr>\n",
       "  </tbody>\n",
       "</table>\n",
       "<p>5 rows × 21 columns</p>\n",
       "</div>"
      ],
      "text/plain": [
       "   customerID  gender  SeniorCitizen Partner Dependents  tenure PhoneService  \\\n",
       "0  7590-VHVEG  Female              0     Yes         No       1           No   \n",
       "1  5575-GNVDE    Male              0      No         No      34          Yes   \n",
       "2  3668-QPYBK    Male              0      No         No       2          Yes   \n",
       "3  7795-CFOCW    Male              0      No         No      45           No   \n",
       "4  9237-HQITU  Female              0      No         No       2          Yes   \n",
       "\n",
       "      MultipleLines InternetService OnlineSecurity  ...  DeviceProtection  \\\n",
       "0  No phone service             DSL             No  ...                No   \n",
       "1                No             DSL            Yes  ...               Yes   \n",
       "2                No             DSL            Yes  ...                No   \n",
       "3  No phone service             DSL            Yes  ...               Yes   \n",
       "4                No     Fiber optic             No  ...                No   \n",
       "\n",
       "  TechSupport StreamingTV StreamingMovies        Contract PaperlessBilling  \\\n",
       "0          No          No              No  Month-to-month              Yes   \n",
       "1          No          No              No        One year               No   \n",
       "2          No          No              No  Month-to-month              Yes   \n",
       "3         Yes          No              No        One year               No   \n",
       "4          No          No              No  Month-to-month              Yes   \n",
       "\n",
       "               PaymentMethod MonthlyCharges  TotalCharges Churn  \n",
       "0           Electronic check          29.85         29.85    No  \n",
       "1               Mailed check          56.95        1889.5    No  \n",
       "2               Mailed check          53.85        108.15   Yes  \n",
       "3  Bank transfer (automatic)          42.30       1840.75    No  \n",
       "4           Electronic check          70.70        151.65   Yes  \n",
       "\n",
       "[5 rows x 21 columns]"
      ]
     },
     "execution_count": 378,
     "metadata": {},
     "output_type": "execute_result"
    }
   ],
   "source": [
    "data.head()"
   ]
  },
  {
   "cell_type": "code",
   "execution_count": 379,
   "metadata": {},
   "outputs": [
    {
     "data": {
      "text/plain": [
       "(7043, 21)"
      ]
     },
     "execution_count": 379,
     "metadata": {},
     "output_type": "execute_result"
    }
   ],
   "source": [
    "data.shape"
   ]
  },
  {
   "cell_type": "code",
   "execution_count": 380,
   "metadata": {},
   "outputs": [
    {
     "data": {
      "text/plain": [
       "Index(['customerID', 'gender', 'SeniorCitizen', 'Partner', 'Dependents',\n",
       "       'tenure', 'PhoneService', 'MultipleLines', 'InternetService',\n",
       "       'OnlineSecurity', 'OnlineBackup', 'DeviceProtection', 'TechSupport',\n",
       "       'StreamingTV', 'StreamingMovies', 'Contract', 'PaperlessBilling',\n",
       "       'PaymentMethod', 'MonthlyCharges', 'TotalCharges', 'Churn'],\n",
       "      dtype='object')"
      ]
     },
     "execution_count": 380,
     "metadata": {},
     "output_type": "execute_result"
    }
   ],
   "source": [
    "data.columns"
   ]
  },
  {
   "cell_type": "code",
   "execution_count": 381,
   "metadata": {},
   "outputs": [],
   "source": [
    "data=data.apply(lambda x : pd.factorize(x)[0])"
   ]
  },
  {
   "cell_type": "code",
   "execution_count": 382,
   "metadata": {},
   "outputs": [
    {
     "name": "stderr",
     "output_type": "stream",
     "text": [
      "C:\\Users\\songaya\\Anaconda3\\lib\\site-packages\\sklearn\\utils\\validation.py:595: DataConversionWarning: Data with input dtype int64 was converted to float64 by StandardScaler.\n",
      "  warnings.warn(msg, DataConversionWarning)\n",
      "C:\\Users\\songaya\\Anaconda3\\lib\\site-packages\\sklearn\\utils\\validation.py:595: DataConversionWarning: Data with input dtype int64 was converted to float64 by StandardScaler.\n",
      "  warnings.warn(msg, DataConversionWarning)\n"
     ]
    }
   ],
   "source": [
    "X=data[['gender', 'SeniorCitizen', 'Partner','tenure', 'PhoneService', \n",
    "               'MultipleLines', 'InternetService','OnlineSecurity', 'OnlineBackup', \n",
    "               'DeviceProtection', 'TechSupport','Contract', 'PaperlessBilling',\n",
    "               'PaymentMethod', 'MonthlyCharges', 'TotalCharges']].values\n",
    "\n",
    "X=StandardScaler().fit_transform(X)\n",
    "\n",
    "y=data['Churn'].values\n",
    "y=np_utils.to_categorical(y)"
   ]
  },
  {
   "cell_type": "code",
   "execution_count": 383,
   "metadata": {},
   "outputs": [],
   "source": [
    "X_train,X_test,y_train,y_test=train_test_split(X,y,test_size=0.3)"
   ]
  },
  {
   "cell_type": "code",
   "execution_count": 384,
   "metadata": {},
   "outputs": [],
   "source": [
    "model=Sequential()\n",
    "model.add(Dense(units=8,input_dim=X_train.shape[1], activation='relu'))\n",
    "model.add(Dense(units=4, activation='relu'))\n",
    "model.add(Dense(units=len(data['Churn'].unique()), activation='softmax'))"
   ]
  },
  {
   "cell_type": "code",
   "execution_count": 385,
   "metadata": {},
   "outputs": [],
   "source": [
    "model.compile(loss='binary_crossentropy',optimizer='adam',metrics=['accuracy'])"
   ]
  },
  {
   "cell_type": "code",
   "execution_count": 386,
   "metadata": {},
   "outputs": [
    {
     "name": "stdout",
     "output_type": "stream",
     "text": [
      "_________________________________________________________________\n",
      "Layer (type)                 Output Shape              Param #   \n",
      "=================================================================\n",
      "dense_87 (Dense)             (None, 8)                 136       \n",
      "_________________________________________________________________\n",
      "dense_88 (Dense)             (None, 4)                 36        \n",
      "_________________________________________________________________\n",
      "dense_89 (Dense)             (None, 2)                 10        \n",
      "=================================================================\n",
      "Total params: 182\n",
      "Trainable params: 182\n",
      "Non-trainable params: 0\n",
      "_________________________________________________________________\n"
     ]
    }
   ],
   "source": [
    "model.summary()"
   ]
  },
  {
   "cell_type": "code",
   "execution_count": 387,
   "metadata": {},
   "outputs": [
    {
     "name": "stdout",
     "output_type": "stream",
     "text": [
      "Train on 3451 samples, validate on 1479 samples\n",
      "Epoch 1/50\n",
      "3451/3451 [==============================] - 2s 574us/step - loss: 0.6827 - acc: 0.5804 - val_loss: 0.6023 - val_acc: 0.6883\n",
      "Epoch 2/50\n",
      "3451/3451 [==============================] - 0s 48us/step - loss: 0.5667 - acc: 0.7195 - val_loss: 0.5278 - val_acc: 0.7350\n",
      "Epoch 3/50\n",
      "3451/3451 [==============================] - 0s 63us/step - loss: 0.5167 - acc: 0.7430 - val_loss: 0.4967 - val_acc: 0.7573\n",
      "Epoch 4/50\n",
      "3451/3451 [==============================] - 0s 67us/step - loss: 0.4930 - acc: 0.7522 - val_loss: 0.4788 - val_acc: 0.7654\n",
      "Epoch 5/50\n",
      "3451/3451 [==============================] - 0s 54us/step - loss: 0.4793 - acc: 0.7638 - val_loss: 0.4701 - val_acc: 0.7674\n",
      "Epoch 6/50\n",
      "3451/3451 [==============================] - 0s 52us/step - loss: 0.4711 - acc: 0.7688 - val_loss: 0.4642 - val_acc: 0.7701\n",
      "Epoch 7/50\n",
      "3451/3451 [==============================] - 0s 57us/step - loss: 0.4655 - acc: 0.7731 - val_loss: 0.4601 - val_acc: 0.7728\n",
      "Epoch 8/50\n",
      "3451/3451 [==============================] - 0s 65us/step - loss: 0.4612 - acc: 0.7734 - val_loss: 0.4572 - val_acc: 0.7715\n",
      "Epoch 9/50\n",
      "3451/3451 [==============================] - 0s 60us/step - loss: 0.4576 - acc: 0.7766 - val_loss: 0.4549 - val_acc: 0.7715\n",
      "Epoch 10/50\n",
      "3451/3451 [==============================] - 0s 60us/step - loss: 0.4545 - acc: 0.7809 - val_loss: 0.4529 - val_acc: 0.7755\n",
      "Epoch 11/50\n",
      "3451/3451 [==============================] - 0s 70us/step - loss: 0.4519 - acc: 0.7804 - val_loss: 0.4513 - val_acc: 0.7728\n",
      "Epoch 12/50\n",
      "3451/3451 [==============================] - 0s 70us/step - loss: 0.4496 - acc: 0.7815 - val_loss: 0.4499 - val_acc: 0.7796\n",
      "Epoch 13/50\n",
      "3451/3451 [==============================] - 0s 53us/step - loss: 0.4471 - acc: 0.7821 - val_loss: 0.4490 - val_acc: 0.7796\n",
      "Epoch 14/50\n",
      "3451/3451 [==============================] - 0s 51us/step - loss: 0.4451 - acc: 0.7856 - val_loss: 0.4479 - val_acc: 0.7809\n",
      "Epoch 15/50\n",
      "3451/3451 [==============================] - 0s 53us/step - loss: 0.4436 - acc: 0.7838 - val_loss: 0.4475 - val_acc: 0.7789\n",
      "Epoch 16/50\n",
      "3451/3451 [==============================] - 0s 55us/step - loss: 0.4420 - acc: 0.7867 - val_loss: 0.4470 - val_acc: 0.7809\n",
      "Epoch 17/50\n",
      "3451/3451 [==============================] - 0s 52us/step - loss: 0.4407 - acc: 0.7885 - val_loss: 0.4465 - val_acc: 0.7789\n",
      "Epoch 18/50\n",
      "3451/3451 [==============================] - 0s 53us/step - loss: 0.4394 - acc: 0.7882 - val_loss: 0.4463 - val_acc: 0.7803\n",
      "Epoch 19/50\n",
      "3451/3451 [==============================] - 0s 52us/step - loss: 0.4385 - acc: 0.7899 - val_loss: 0.4458 - val_acc: 0.7782\n",
      "Epoch 20/50\n",
      "3451/3451 [==============================] - 0s 48us/step - loss: 0.4374 - acc: 0.7893 - val_loss: 0.4456 - val_acc: 0.7796\n",
      "Epoch 21/50\n",
      "3451/3451 [==============================] - 0s 51us/step - loss: 0.4364 - acc: 0.7893 - val_loss: 0.4453 - val_acc: 0.7769\n",
      "Epoch 22/50\n",
      "3451/3451 [==============================] - 0s 52us/step - loss: 0.4358 - acc: 0.7908 - val_loss: 0.4455 - val_acc: 0.7748\n",
      "Epoch 23/50\n",
      "3451/3451 [==============================] - 0s 54us/step - loss: 0.4347 - acc: 0.7922 - val_loss: 0.4450 - val_acc: 0.7782\n",
      "Epoch 24/50\n",
      "3451/3451 [==============================] - 0s 53us/step - loss: 0.4342 - acc: 0.7934 - val_loss: 0.4448 - val_acc: 0.7776\n",
      "Epoch 25/50\n",
      "3451/3451 [==============================] - 0s 52us/step - loss: 0.4334 - acc: 0.7917 - val_loss: 0.4447 - val_acc: 0.7803\n",
      "Epoch 26/50\n",
      "3451/3451 [==============================] - 0s 53us/step - loss: 0.4327 - acc: 0.7934 - val_loss: 0.4448 - val_acc: 0.7769\n",
      "Epoch 27/50\n",
      "3451/3451 [==============================] - 0s 53us/step - loss: 0.4318 - acc: 0.7946 - val_loss: 0.4446 - val_acc: 0.7803\n",
      "Epoch 28/50\n",
      "3451/3451 [==============================] - 0s 53us/step - loss: 0.4313 - acc: 0.7946 - val_loss: 0.4445 - val_acc: 0.7776\n",
      "Epoch 29/50\n",
      "3451/3451 [==============================] - 0s 53us/step - loss: 0.4308 - acc: 0.7966 - val_loss: 0.4442 - val_acc: 0.7769\n",
      "Epoch 30/50\n",
      "3451/3451 [==============================] - 0s 52us/step - loss: 0.4305 - acc: 0.7937 - val_loss: 0.4443 - val_acc: 0.7762\n",
      "Epoch 31/50\n",
      "3451/3451 [==============================] - 0s 55us/step - loss: 0.4297 - acc: 0.7960 - val_loss: 0.4441 - val_acc: 0.7769\n",
      "Epoch 32/50\n",
      "3451/3451 [==============================] - 0s 53us/step - loss: 0.4294 - acc: 0.7951 - val_loss: 0.4441 - val_acc: 0.7769\n",
      "Epoch 33/50\n",
      "3451/3451 [==============================] - 0s 52us/step - loss: 0.4287 - acc: 0.7951 - val_loss: 0.4439 - val_acc: 0.7755\n",
      "Epoch 34/50\n",
      "3451/3451 [==============================] - 0s 53us/step - loss: 0.4281 - acc: 0.7960 - val_loss: 0.4434 - val_acc: 0.7769\n",
      "Epoch 35/50\n",
      "3451/3451 [==============================] - 0s 51us/step - loss: 0.4278 - acc: 0.7948 - val_loss: 0.4438 - val_acc: 0.7748\n",
      "Epoch 36/50\n",
      "3451/3451 [==============================] - 0s 54us/step - loss: 0.4276 - acc: 0.7966 - val_loss: 0.4439 - val_acc: 0.7742\n",
      "Epoch 37/50\n",
      "3451/3451 [==============================] - 0s 62us/step - loss: 0.4274 - acc: 0.7975 - val_loss: 0.4439 - val_acc: 0.7728\n",
      "Epoch 38/50\n",
      "3451/3451 [==============================] - 0s 62us/step - loss: 0.4268 - acc: 0.7980 - val_loss: 0.4437 - val_acc: 0.7762\n",
      "Epoch 39/50\n",
      "3451/3451 [==============================] - 0s 54us/step - loss: 0.4265 - acc: 0.7972 - val_loss: 0.4438 - val_acc: 0.7728\n",
      "Epoch 40/50\n",
      "3451/3451 [==============================] - 0s 52us/step - loss: 0.4270 - acc: 0.7972 - val_loss: 0.4441 - val_acc: 0.7748\n",
      "Epoch 41/50\n",
      "3451/3451 [==============================] - 0s 55us/step - loss: 0.4262 - acc: 0.7977 - val_loss: 0.4442 - val_acc: 0.7748\n",
      "Epoch 42/50\n",
      "3451/3451 [==============================] - 0s 55us/step - loss: 0.4255 - acc: 0.8006 - val_loss: 0.4439 - val_acc: 0.7748\n",
      "Epoch 43/50\n",
      "3451/3451 [==============================] - 0s 51us/step - loss: 0.4253 - acc: 0.7986 - val_loss: 0.4443 - val_acc: 0.7748\n",
      "Epoch 44/50\n",
      "3451/3451 [==============================] - 0s 51us/step - loss: 0.4252 - acc: 0.7966 - val_loss: 0.4439 - val_acc: 0.7755\n",
      "Epoch 45/50\n",
      "3451/3451 [==============================] - 0s 53us/step - loss: 0.4250 - acc: 0.7980 - val_loss: 0.4444 - val_acc: 0.7769\n",
      "Epoch 46/50\n",
      "3451/3451 [==============================] - 0s 53us/step - loss: 0.4254 - acc: 0.7998 - val_loss: 0.4444 - val_acc: 0.7769\n",
      "Epoch 47/50\n",
      "3451/3451 [==============================] - 0s 53us/step - loss: 0.4247 - acc: 0.7969 - val_loss: 0.4444 - val_acc: 0.7755\n",
      "Epoch 48/50\n",
      "3451/3451 [==============================] - 0s 51us/step - loss: 0.4244 - acc: 0.7989 - val_loss: 0.4445 - val_acc: 0.7769\n",
      "Epoch 49/50\n",
      "3451/3451 [==============================] - 0s 54us/step - loss: 0.4239 - acc: 0.8003 - val_loss: 0.4449 - val_acc: 0.7769\n",
      "Epoch 50/50\n",
      "3451/3451 [==============================] - 0s 58us/step - loss: 0.4237 - acc: 0.8018 - val_loss: 0.4449 - val_acc: 0.7782\n"
     ]
    }
   ],
   "source": [
    "history=model.fit(X_train,y_train, batch_size=64, epochs=50,validation_split=0.3)"
   ]
  },
  {
   "cell_type": "code",
   "execution_count": 388,
   "metadata": {},
   "outputs": [
    {
     "name": "stdout",
     "output_type": "stream",
     "text": [
      "2113/2113 [==============================] - 0s 53us/step\n"
     ]
    },
    {
     "data": {
      "text/plain": [
       "[0.4201182811338079, 0.7950780880265026]"
      ]
     },
     "execution_count": 388,
     "metadata": {},
     "output_type": "execute_result"
    }
   ],
   "source": [
    "model.evaluate(X_test,y_test)"
   ]
  },
  {
   "cell_type": "code",
   "execution_count": 389,
   "metadata": {},
   "outputs": [
    {
     "data": {
      "image/png": "[encoded data removed]",
      "text/plain": [
       "<Figure size 432x288 with 1 Axes>"
      ]
     },
     "metadata": {},
     "output_type": "display_data"
    }
   ],
   "source": [
    "plt.plot(history.history['loss'],color='green')\n",
    "plt.plot(history.history['val_loss'],color='orange')\n",
    "plt.show()"
   ]
  },
  {
   "cell_type": "code",
   "execution_count": null,
   "metadata": {},
   "outputs": [],
   "source": []
  },
  {
   "cell_type": "code",
   "execution_count": null,
   "metadata": {},
   "outputs": [],
   "source": []
  }
 ],
 "metadata": {
  "kernelspec": {
   "display_name": "Python 3",
   "language": "python",
   "name": "python3"
  },
  "language_info": {
   "codemirror_mode": {
    "name": "ipython",
    "version": 3
   },
   "file_extension": ".py",
   "mimetype": "text/x-python",
   "name": "python",
   "nbconvert_exporter": "python",
   "pygments_lexer": "ipython3",
   "version": "3.6.5"
  }
 },
 "nbformat": 4,
 "nbformat_minor": 2
}
